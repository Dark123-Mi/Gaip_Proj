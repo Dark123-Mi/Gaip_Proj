{
  "nbformat": 4,
  "nbformat_minor": 0,
  "metadata": {
    "colab": {
      "name": "GAIPHP1&2.ipynb",
      "provenance": []
    },
    "kernelspec": {
      "name": "python3",
      "display_name": "Python 3"
    },
    "language_info": {
      "name": "python"
    }
  },
  "cells": [
    {
      "cell_type": "code",
      "execution_count": 2,
      "metadata": {
        "id": "VjF6jWQ0VahB"
      },
      "outputs": [],
      "source": [
        "import tensorflow as tf\n",
        "from tensorflow import keras\n"
      ]
    },
    {
      "cell_type": "code",
      "source": [
        "datasets=keras.datasets \n",
        "datasets.__dict__"
      ],
      "metadata": {
        "colab": {
          "base_uri": "https://localhost:8080/"
        },
        "id": "I2FzFNQ6WTdZ",
        "outputId": "a8f2f45d-7a9b-45fd-a6e1-b7b56efda892"
      },
      "execution_count": 3,
      "outputs": [
        {
          "output_type": "execute_result",
          "data": {
            "text/plain": [
              "{'__builtins__': {'ArithmeticError': ArithmeticError,\n",
              "  'AssertionError': AssertionError,\n",
              "  'AttributeError': AttributeError,\n",
              "  'BaseException': BaseException,\n",
              "  'BlockingIOError': BlockingIOError,\n",
              "  'BrokenPipeError': BrokenPipeError,\n",
              "  'BufferError': BufferError,\n",
              "  'BytesWarning': BytesWarning,\n",
              "  'ChildProcessError': ChildProcessError,\n",
              "  'ConnectionAbortedError': ConnectionAbortedError,\n",
              "  'ConnectionError': ConnectionError,\n",
              "  'ConnectionRefusedError': ConnectionRefusedError,\n",
              "  'ConnectionResetError': ConnectionResetError,\n",
              "  'DeprecationWarning': DeprecationWarning,\n",
              "  'EOFError': EOFError,\n",
              "  'Ellipsis': Ellipsis,\n",
              "  'EnvironmentError': OSError,\n",
              "  'Exception': Exception,\n",
              "  'False': False,\n",
              "  'FileExistsError': FileExistsError,\n",
              "  'FileNotFoundError': FileNotFoundError,\n",
              "  'FloatingPointError': FloatingPointError,\n",
              "  'FutureWarning': FutureWarning,\n",
              "  'GeneratorExit': GeneratorExit,\n",
              "  'IOError': OSError,\n",
              "  'ImportError': ImportError,\n",
              "  'ImportWarning': ImportWarning,\n",
              "  'IndentationError': IndentationError,\n",
              "  'IndexError': IndexError,\n",
              "  'InterruptedError': InterruptedError,\n",
              "  'IsADirectoryError': IsADirectoryError,\n",
              "  'KeyError': KeyError,\n",
              "  'KeyboardInterrupt': KeyboardInterrupt,\n",
              "  'LookupError': LookupError,\n",
              "  'MemoryError': MemoryError,\n",
              "  'ModuleNotFoundError': ModuleNotFoundError,\n",
              "  'NameError': NameError,\n",
              "  'None': None,\n",
              "  'NotADirectoryError': NotADirectoryError,\n",
              "  'NotImplemented': NotImplemented,\n",
              "  'NotImplementedError': NotImplementedError,\n",
              "  'OSError': OSError,\n",
              "  'OverflowError': OverflowError,\n",
              "  'PendingDeprecationWarning': PendingDeprecationWarning,\n",
              "  'PermissionError': PermissionError,\n",
              "  'ProcessLookupError': ProcessLookupError,\n",
              "  'RecursionError': RecursionError,\n",
              "  'ReferenceError': ReferenceError,\n",
              "  'ResourceWarning': ResourceWarning,\n",
              "  'RuntimeError': RuntimeError,\n",
              "  'RuntimeWarning': RuntimeWarning,\n",
              "  'StopAsyncIteration': StopAsyncIteration,\n",
              "  'StopIteration': StopIteration,\n",
              "  'SyntaxError': SyntaxError,\n",
              "  'SyntaxWarning': SyntaxWarning,\n",
              "  'SystemError': SystemError,\n",
              "  'SystemExit': SystemExit,\n",
              "  'TabError': TabError,\n",
              "  'TimeoutError': TimeoutError,\n",
              "  'True': True,\n",
              "  'TypeError': TypeError,\n",
              "  'UnboundLocalError': UnboundLocalError,\n",
              "  'UnicodeDecodeError': UnicodeDecodeError,\n",
              "  'UnicodeEncodeError': UnicodeEncodeError,\n",
              "  'UnicodeError': UnicodeError,\n",
              "  'UnicodeTranslateError': UnicodeTranslateError,\n",
              "  'UnicodeWarning': UnicodeWarning,\n",
              "  'UserWarning': UserWarning,\n",
              "  'ValueError': ValueError,\n",
              "  'Warning': Warning,\n",
              "  'ZeroDivisionError': ZeroDivisionError,\n",
              "  '__IPYTHON__': True,\n",
              "  '__build_class__': <function __build_class__>,\n",
              "  '__debug__': True,\n",
              "  '__doc__': \"Built-in functions, exceptions, and other objects.\\n\\nNoteworthy: None is the `nil' object; Ellipsis represents `...' in slices.\",\n",
              "  '__import__': <function __import__>,\n",
              "  '__loader__': _frozen_importlib.BuiltinImporter,\n",
              "  '__name__': 'builtins',\n",
              "  '__package__': '',\n",
              "  '__pybind11_internals_v3_gcc_libstdcpp_cxxabi1002__': <capsule object NULL at 0x7f075f34c180>,\n",
              "  '__pybind11_internals_v4_gcc_libstdcpp_cxxabi1011__': <capsule object NULL at 0x7f07afb04600>,\n",
              "  '__pybind11_internals_v4_gcc_libstdcpp_cxxabi1013__': <capsule object NULL at 0x7f074e76eae0>,\n",
              "  '__spec__': ModuleSpec(name='builtins', loader=<class '_frozen_importlib.BuiltinImporter'>),\n",
              "  'abs': <function abs>,\n",
              "  'all': <function all>,\n",
              "  'any': <function any>,\n",
              "  'ascii': <function ascii>,\n",
              "  'bin': <function bin>,\n",
              "  'bool': bool,\n",
              "  'breakpoint': <function breakpoint>,\n",
              "  'bytearray': bytearray,\n",
              "  'bytes': bytes,\n",
              "  'callable': <function callable>,\n",
              "  'chr': <function chr>,\n",
              "  'classmethod': classmethod,\n",
              "  'compile': <function compile>,\n",
              "  'complex': complex,\n",
              "  'copyright': Copyright (c) 2001-2022 Python Software Foundation.\n",
              "  All Rights Reserved.\n",
              "  \n",
              "  Copyright (c) 2000 BeOpen.com.\n",
              "  All Rights Reserved.\n",
              "  \n",
              "  Copyright (c) 1995-2001 Corporation for National Research Initiatives.\n",
              "  All Rights Reserved.\n",
              "  \n",
              "  Copyright (c) 1991-1995 Stichting Mathematisch Centrum, Amsterdam.\n",
              "  All Rights Reserved.,\n",
              "  'credits':     Thanks to CWI, CNRI, BeOpen.com, Zope Corporation and a cast of thousands\n",
              "      for supporting Python development.  See www.python.org for more information.,\n",
              "  'delattr': <function delattr>,\n",
              "  'dict': dict,\n",
              "  'dir': <function dir>,\n",
              "  'display': <function IPython.core.display.display>,\n",
              "  'divmod': <function divmod>,\n",
              "  'dreload': <function IPython.lib.deepreload._dreload>,\n",
              "  'enumerate': enumerate,\n",
              "  'eval': <function eval>,\n",
              "  'exec': <function exec>,\n",
              "  'execfile': <function _pydev_imps._pydev_execfile.execfile>,\n",
              "  'filter': filter,\n",
              "  'float': float,\n",
              "  'format': <function format>,\n",
              "  'frozenset': frozenset,\n",
              "  'get_ipython': <bound method InteractiveShell.get_ipython of <google.colab._shell.Shell object at 0x7f07bd70a1d0>>,\n",
              "  'getattr': <function getattr>,\n",
              "  'globals': <function globals>,\n",
              "  'hasattr': <function hasattr>,\n",
              "  'hash': <function hash>,\n",
              "  'help': Type help() for interactive help, or help(object) for help about object.,\n",
              "  'hex': <function hex>,\n",
              "  'id': <function id>,\n",
              "  'input': <bound method Kernel.raw_input of <google.colab._kernel.Kernel object at 0x7f07bd70a150>>,\n",
              "  'int': int,\n",
              "  'isinstance': <function isinstance>,\n",
              "  'issubclass': <function issubclass>,\n",
              "  'iter': <function iter>,\n",
              "  'len': <function len>,\n",
              "  'license': Type license() to see the full license text,\n",
              "  'list': list,\n",
              "  'locals': <function locals>,\n",
              "  'map': map,\n",
              "  'max': <function max>,\n",
              "  'memoryview': memoryview,\n",
              "  'min': <function min>,\n",
              "  'next': <function next>,\n",
              "  'object': object,\n",
              "  'oct': <function oct>,\n",
              "  'open': <function io.open>,\n",
              "  'ord': <function ord>,\n",
              "  'pow': <function pow>,\n",
              "  'print': <function print>,\n",
              "  'property': property,\n",
              "  'range': range,\n",
              "  'repr': <function repr>,\n",
              "  'reversed': reversed,\n",
              "  'round': <function round>,\n",
              "  'runfile': <function _pydev_bundle.pydev_umd.runfile>,\n",
              "  'set': set,\n",
              "  'setattr': <function setattr>,\n",
              "  'slice': slice,\n",
              "  'sorted': <function sorted>,\n",
              "  'staticmethod': staticmethod,\n",
              "  'str': str,\n",
              "  'sum': <function sum>,\n",
              "  'super': super,\n",
              "  'tuple': tuple,\n",
              "  'type': type,\n",
              "  'vars': <function vars>,\n",
              "  'zip': zip},\n",
              " '__cached__': '/usr/local/lib/python3.7/dist-packages/keras/api/_v2/keras/datasets/__pycache__/__init__.cpython-37.pyc',\n",
              " '__doc__': 'Public API for tf.keras.datasets namespace.\\n',\n",
              " '__file__': '/usr/local/lib/python3.7/dist-packages/keras/api/_v2/keras/datasets/__init__.py',\n",
              " '__loader__': <_frozen_importlib_external.SourceFileLoader at 0x7f072c43c510>,\n",
              " '__name__': 'keras.api._v2.keras.datasets',\n",
              " '__package__': 'keras.api._v2.keras.datasets',\n",
              " '__path__': ['/usr/local/lib/python3.7/dist-packages/keras/api/_v2/keras/datasets'],\n",
              " '__spec__': ModuleSpec(name='keras.api._v2.keras.datasets', loader=<_frozen_importlib_external.SourceFileLoader object at 0x7f072c43c510>, origin='/usr/local/lib/python3.7/dist-packages/keras/api/_v2/keras/datasets/__init__.py', submodule_search_locations=['/usr/local/lib/python3.7/dist-packages/keras/api/_v2/keras/datasets']),\n",
              " '_sys': <module 'sys' (built-in)>,\n",
              " 'boston_housing': <module 'keras.api._v2.keras.datasets.boston_housing' from '/usr/local/lib/python3.7/dist-packages/keras/api/_v2/keras/datasets/boston_housing/__init__.py'>,\n",
              " 'cifar10': <module 'keras.api._v2.keras.datasets.cifar10' from '/usr/local/lib/python3.7/dist-packages/keras/api/_v2/keras/datasets/cifar10/__init__.py'>,\n",
              " 'cifar100': <module 'keras.api._v2.keras.datasets.cifar100' from '/usr/local/lib/python3.7/dist-packages/keras/api/_v2/keras/datasets/cifar100/__init__.py'>,\n",
              " 'fashion_mnist': <module 'keras.api._v2.keras.datasets.fashion_mnist' from '/usr/local/lib/python3.7/dist-packages/keras/api/_v2/keras/datasets/fashion_mnist/__init__.py'>,\n",
              " 'imdb': <module 'keras.api._v2.keras.datasets.imdb' from '/usr/local/lib/python3.7/dist-packages/keras/api/_v2/keras/datasets/imdb/__init__.py'>,\n",
              " 'mnist': <module 'keras.api._v2.keras.datasets.mnist' from '/usr/local/lib/python3.7/dist-packages/keras/api/_v2/keras/datasets/mnist/__init__.py'>,\n",
              " 'reuters': <module 'keras.api._v2.keras.datasets.reuters' from '/usr/local/lib/python3.7/dist-packages/keras/api/_v2/keras/datasets/reuters/__init__.py'>}"
            ]
          },
          "metadata": {},
          "execution_count": 3
        }
      ]
    },
    {
      "cell_type": "code",
      "source": [
        "dir(datasets)"
      ],
      "metadata": {
        "colab": {
          "base_uri": "https://localhost:8080/"
        },
        "id": "I70qCpc7Wmkq",
        "outputId": "95ac7023-4065-4c30-ebb5-1bf1cfa16d20"
      },
      "execution_count": 4,
      "outputs": [
        {
          "output_type": "execute_result",
          "data": {
            "text/plain": [
              "['__builtins__',\n",
              " '__cached__',\n",
              " '__doc__',\n",
              " '__file__',\n",
              " '__loader__',\n",
              " '__name__',\n",
              " '__package__',\n",
              " '__path__',\n",
              " '__spec__',\n",
              " '_sys',\n",
              " 'boston_housing',\n",
              " 'cifar10',\n",
              " 'cifar100',\n",
              " 'fashion_mnist',\n",
              " 'imdb',\n",
              " 'mnist',\n",
              " 'reuters']"
            ]
          },
          "metadata": {},
          "execution_count": 4
        }
      ]
    },
    {
      "cell_type": "code",
      "source": [
        "data=datasets.fashion_mnist\n",
        "dir(data)"
      ],
      "metadata": {
        "colab": {
          "base_uri": "https://localhost:8080/"
        },
        "id": "5RbQ5cJyW3Z0",
        "outputId": "01472dbf-a203-49ac-d342-d8a8898736ab"
      },
      "execution_count": 5,
      "outputs": [
        {
          "output_type": "execute_result",
          "data": {
            "text/plain": [
              "['__builtins__',\n",
              " '__cached__',\n",
              " '__doc__',\n",
              " '__file__',\n",
              " '__loader__',\n",
              " '__name__',\n",
              " '__package__',\n",
              " '__path__',\n",
              " '__spec__',\n",
              " '_sys',\n",
              " 'load_data']"
            ]
          },
          "metadata": {},
          "execution_count": 5
        }
      ]
    },
    {
      "cell_type": "code",
      "source": [
        "data.__dict__"
      ],
      "metadata": {
        "colab": {
          "base_uri": "https://localhost:8080/"
        },
        "id": "k4CntYSkXXVM",
        "outputId": "96270f54-52c2-4515-eddd-82246ab4ef78"
      },
      "execution_count": 31,
      "outputs": [
        {
          "output_type": "execute_result",
          "data": {
            "text/plain": [
              "{'__builtins__': {'ArithmeticError': ArithmeticError,\n",
              "  'AssertionError': AssertionError,\n",
              "  'AttributeError': AttributeError,\n",
              "  'BaseException': BaseException,\n",
              "  'BlockingIOError': BlockingIOError,\n",
              "  'BrokenPipeError': BrokenPipeError,\n",
              "  'BufferError': BufferError,\n",
              "  'BytesWarning': BytesWarning,\n",
              "  'ChildProcessError': ChildProcessError,\n",
              "  'ConnectionAbortedError': ConnectionAbortedError,\n",
              "  'ConnectionError': ConnectionError,\n",
              "  'ConnectionRefusedError': ConnectionRefusedError,\n",
              "  'ConnectionResetError': ConnectionResetError,\n",
              "  'DeprecationWarning': DeprecationWarning,\n",
              "  'EOFError': EOFError,\n",
              "  'Ellipsis': Ellipsis,\n",
              "  'EnvironmentError': OSError,\n",
              "  'Exception': Exception,\n",
              "  'False': False,\n",
              "  'FileExistsError': FileExistsError,\n",
              "  'FileNotFoundError': FileNotFoundError,\n",
              "  'FloatingPointError': FloatingPointError,\n",
              "  'FutureWarning': FutureWarning,\n",
              "  'GeneratorExit': GeneratorExit,\n",
              "  'IOError': OSError,\n",
              "  'ImportError': ImportError,\n",
              "  'ImportWarning': ImportWarning,\n",
              "  'IndentationError': IndentationError,\n",
              "  'IndexError': IndexError,\n",
              "  'InterruptedError': InterruptedError,\n",
              "  'IsADirectoryError': IsADirectoryError,\n",
              "  'KeyError': KeyError,\n",
              "  'KeyboardInterrupt': KeyboardInterrupt,\n",
              "  'LookupError': LookupError,\n",
              "  'MemoryError': MemoryError,\n",
              "  'ModuleNotFoundError': ModuleNotFoundError,\n",
              "  'NameError': NameError,\n",
              "  'None': None,\n",
              "  'NotADirectoryError': NotADirectoryError,\n",
              "  'NotImplemented': NotImplemented,\n",
              "  'NotImplementedError': NotImplementedError,\n",
              "  'OSError': OSError,\n",
              "  'OverflowError': OverflowError,\n",
              "  'PendingDeprecationWarning': PendingDeprecationWarning,\n",
              "  'PermissionError': PermissionError,\n",
              "  'ProcessLookupError': ProcessLookupError,\n",
              "  'RecursionError': RecursionError,\n",
              "  'ReferenceError': ReferenceError,\n",
              "  'ResourceWarning': ResourceWarning,\n",
              "  'RuntimeError': RuntimeError,\n",
              "  'RuntimeWarning': RuntimeWarning,\n",
              "  'StopAsyncIteration': StopAsyncIteration,\n",
              "  'StopIteration': StopIteration,\n",
              "  'SyntaxError': SyntaxError,\n",
              "  'SyntaxWarning': SyntaxWarning,\n",
              "  'SystemError': SystemError,\n",
              "  'SystemExit': SystemExit,\n",
              "  'TabError': TabError,\n",
              "  'TimeoutError': TimeoutError,\n",
              "  'True': True,\n",
              "  'TypeError': TypeError,\n",
              "  'UnboundLocalError': UnboundLocalError,\n",
              "  'UnicodeDecodeError': UnicodeDecodeError,\n",
              "  'UnicodeEncodeError': UnicodeEncodeError,\n",
              "  'UnicodeError': UnicodeError,\n",
              "  'UnicodeTranslateError': UnicodeTranslateError,\n",
              "  'UnicodeWarning': UnicodeWarning,\n",
              "  'UserWarning': UserWarning,\n",
              "  'ValueError': ValueError,\n",
              "  'Warning': Warning,\n",
              "  'ZeroDivisionError': ZeroDivisionError,\n",
              "  '__IPYTHON__': True,\n",
              "  '__build_class__': <function __build_class__>,\n",
              "  '__debug__': True,\n",
              "  '__doc__': \"Built-in functions, exceptions, and other objects.\\n\\nNoteworthy: None is the `nil' object; Ellipsis represents `...' in slices.\",\n",
              "  '__import__': <function __import__>,\n",
              "  '__loader__': _frozen_importlib.BuiltinImporter,\n",
              "  '__name__': 'builtins',\n",
              "  '__package__': '',\n",
              "  '__pybind11_internals_v3_gcc_libstdcpp_cxxabi1002__': <capsule object NULL at 0x7f4a84c0c510>,\n",
              "  '__pybind11_internals_v4_gcc_libstdcpp_cxxabi1011__': <capsule object NULL at 0x7f4ad4932a20>,\n",
              "  '__pybind11_internals_v4_gcc_libstdcpp_cxxabi1013__': <capsule object NULL at 0x7f4a742ad5d0>,\n",
              "  '__spec__': ModuleSpec(name='builtins', loader=<class '_frozen_importlib.BuiltinImporter'>),\n",
              "  'abs': <function abs>,\n",
              "  'all': <function all>,\n",
              "  'any': <function any>,\n",
              "  'ascii': <function ascii>,\n",
              "  'bin': <function bin>,\n",
              "  'bool': bool,\n",
              "  'breakpoint': <function breakpoint>,\n",
              "  'bytearray': bytearray,\n",
              "  'bytes': bytes,\n",
              "  'callable': <function callable>,\n",
              "  'chr': <function chr>,\n",
              "  'classmethod': classmethod,\n",
              "  'compile': <function compile>,\n",
              "  'complex': complex,\n",
              "  'copyright': Copyright (c) 2001-2022 Python Software Foundation.\n",
              "  All Rights Reserved.\n",
              "  \n",
              "  Copyright (c) 2000 BeOpen.com.\n",
              "  All Rights Reserved.\n",
              "  \n",
              "  Copyright (c) 1995-2001 Corporation for National Research Initiatives.\n",
              "  All Rights Reserved.\n",
              "  \n",
              "  Copyright (c) 1991-1995 Stichting Mathematisch Centrum, Amsterdam.\n",
              "  All Rights Reserved.,\n",
              "  'credits':     Thanks to CWI, CNRI, BeOpen.com, Zope Corporation and a cast of thousands\n",
              "      for supporting Python development.  See www.python.org for more information.,\n",
              "  'delattr': <function delattr>,\n",
              "  'dict': dict,\n",
              "  'dir': <function dir>,\n",
              "  'display': <function IPython.core.display.display>,\n",
              "  'divmod': <function divmod>,\n",
              "  'dreload': <function IPython.lib.deepreload._dreload>,\n",
              "  'enumerate': enumerate,\n",
              "  'eval': <function eval>,\n",
              "  'exec': <function exec>,\n",
              "  'execfile': <function _pydev_imps._pydev_execfile.execfile>,\n",
              "  'filter': filter,\n",
              "  'float': float,\n",
              "  'format': <function format>,\n",
              "  'frozenset': frozenset,\n",
              "  'get_ipython': <bound method InteractiveShell.get_ipython of <google.colab._shell.Shell object at 0x7f4ae2781050>>,\n",
              "  'getattr': <function getattr>,\n",
              "  'globals': <function globals>,\n",
              "  'hasattr': <function hasattr>,\n",
              "  'hash': <function hash>,\n",
              "  'help': Type help() for interactive help, or help(object) for help about object.,\n",
              "  'hex': <function hex>,\n",
              "  'id': <function id>,\n",
              "  'input': <bound method Kernel.raw_input of <google.colab._kernel.Kernel object at 0x7f4ae2535c90>>,\n",
              "  'int': int,\n",
              "  'isinstance': <function isinstance>,\n",
              "  'issubclass': <function issubclass>,\n",
              "  'iter': <function iter>,\n",
              "  'len': <function len>,\n",
              "  'license': Type license() to see the full license text,\n",
              "  'list': list,\n",
              "  'locals': <function locals>,\n",
              "  'map': map,\n",
              "  'max': <function max>,\n",
              "  'memoryview': memoryview,\n",
              "  'min': <function min>,\n",
              "  'next': <function next>,\n",
              "  'object': object,\n",
              "  'oct': <function oct>,\n",
              "  'open': <function io.open>,\n",
              "  'ord': <function ord>,\n",
              "  'pow': <function pow>,\n",
              "  'print': <function print>,\n",
              "  'property': property,\n",
              "  'range': range,\n",
              "  'repr': <function repr>,\n",
              "  'reversed': reversed,\n",
              "  'round': <function round>,\n",
              "  'runfile': <function _pydev_bundle.pydev_umd.runfile>,\n",
              "  'set': set,\n",
              "  'setattr': <function setattr>,\n",
              "  'slice': slice,\n",
              "  'sorted': <function sorted>,\n",
              "  'staticmethod': staticmethod,\n",
              "  'str': str,\n",
              "  'sum': <function sum>,\n",
              "  'super': super,\n",
              "  'tuple': tuple,\n",
              "  'type': type,\n",
              "  'vars': <function vars>,\n",
              "  'zip': zip},\n",
              " '__cached__': '/usr/local/lib/python3.7/dist-packages/keras/api/_v2/keras/datasets/fashion_mnist/__pycache__/__init__.cpython-37.pyc',\n",
              " '__doc__': 'Public API for tf.keras.datasets.fashion_mnist namespace.\\n',\n",
              " '__file__': '/usr/local/lib/python3.7/dist-packages/keras/api/_v2/keras/datasets/fashion_mnist/__init__.py',\n",
              " '__loader__': <_frozen_importlib_external.SourceFileLoader at 0x7f4a54865610>,\n",
              " '__name__': 'keras.api._v2.keras.datasets.fashion_mnist',\n",
              " '__package__': 'keras.api._v2.keras.datasets.fashion_mnist',\n",
              " '__path__': ['/usr/local/lib/python3.7/dist-packages/keras/api/_v2/keras/datasets/fashion_mnist'],\n",
              " '__spec__': ModuleSpec(name='keras.api._v2.keras.datasets.fashion_mnist', loader=<_frozen_importlib_external.SourceFileLoader object at 0x7f4a54865610>, origin='/usr/local/lib/python3.7/dist-packages/keras/api/_v2/keras/datasets/fashion_mnist/__init__.py', submodule_search_locations=['/usr/local/lib/python3.7/dist-packages/keras/api/_v2/keras/datasets/fashion_mnist']),\n",
              " '_sys': <module 'sys' (built-in)>,\n",
              " 'load_data': <function keras.datasets.fashion_mnist.load_data>}"
            ]
          },
          "metadata": {},
          "execution_count": 31
        }
      ]
    },
    {
      "cell_type": "code",
      "source": [
        "alldata=data.load_data()"
      ],
      "metadata": {
        "id": "qWhIvcg1Xe4M"
      },
      "execution_count": 32,
      "outputs": []
    },
    {
      "cell_type": "code",
      "source": [
        "len(alldata[0]), len(alldata[1])"
      ],
      "metadata": {
        "colab": {
          "base_uri": "https://localhost:8080/"
        },
        "id": "i--twgjcXzon",
        "outputId": "cb38c364-a8ca-4dac-840c-56c522471dbc"
      },
      "execution_count": 33,
      "outputs": [
        {
          "output_type": "execute_result",
          "data": {
            "text/plain": [
              "(2, 2)"
            ]
          },
          "metadata": {},
          "execution_count": 33
        }
      ]
    },
    {
      "cell_type": "code",
      "source": [
        "len(alldata[0][0]), len(alldata[1][0])"
      ],
      "metadata": {
        "colab": {
          "base_uri": "https://localhost:8080/"
        },
        "id": "sFJ_py67X5rL",
        "outputId": "aed227a2-2cd2-45fa-94f3-bd6e1d01e84f"
      },
      "execution_count": 34,
      "outputs": [
        {
          "output_type": "execute_result",
          "data": {
            "text/plain": [
              "(60000, 10000)"
            ]
          },
          "metadata": {},
          "execution_count": 34
        }
      ]
    },
    {
      "cell_type": "code",
      "source": [
        "(a,b), (c,d)=alldata"
      ],
      "metadata": {
        "id": "WmGJ67A_X981"
      },
      "execution_count": 35,
      "outputs": []
    },
    {
      "cell_type": "code",
      "source": [
        "a[0]"
      ],
      "metadata": {
        "colab": {
          "base_uri": "https://localhost:8080/"
        },
        "id": "nDlXNLlUYdMc",
        "outputId": "54271087-8749-4579-ace2-c3ea6bd92ea8"
      },
      "execution_count": 36,
      "outputs": [
        {
          "output_type": "execute_result",
          "data": {
            "text/plain": [
              "array([[  0,   0,   0,   0,   0,   0,   0,   0,   0,   0,   0,   0,   0,\n",
              "          0,   0,   0,   0,   0,   0,   0,   0,   0,   0,   0,   0,   0,\n",
              "          0,   0],\n",
              "       [  0,   0,   0,   0,   0,   0,   0,   0,   0,   0,   0,   0,   0,\n",
              "          0,   0,   0,   0,   0,   0,   0,   0,   0,   0,   0,   0,   0,\n",
              "          0,   0],\n",
              "       [  0,   0,   0,   0,   0,   0,   0,   0,   0,   0,   0,   0,   0,\n",
              "          0,   0,   0,   0,   0,   0,   0,   0,   0,   0,   0,   0,   0,\n",
              "          0,   0],\n",
              "       [  0,   0,   0,   0,   0,   0,   0,   0,   0,   0,   0,   0,   1,\n",
              "          0,   0,  13,  73,   0,   0,   1,   4,   0,   0,   0,   0,   1,\n",
              "          1,   0],\n",
              "       [  0,   0,   0,   0,   0,   0,   0,   0,   0,   0,   0,   0,   3,\n",
              "          0,  36, 136, 127,  62,  54,   0,   0,   0,   1,   3,   4,   0,\n",
              "          0,   3],\n",
              "       [  0,   0,   0,   0,   0,   0,   0,   0,   0,   0,   0,   0,   6,\n",
              "          0, 102, 204, 176, 134, 144, 123,  23,   0,   0,   0,   0,  12,\n",
              "         10,   0],\n",
              "       [  0,   0,   0,   0,   0,   0,   0,   0,   0,   0,   0,   0,   0,\n",
              "          0, 155, 236, 207, 178, 107, 156, 161, 109,  64,  23,  77, 130,\n",
              "         72,  15],\n",
              "       [  0,   0,   0,   0,   0,   0,   0,   0,   0,   0,   0,   1,   0,\n",
              "         69, 207, 223, 218, 216, 216, 163, 127, 121, 122, 146, 141,  88,\n",
              "        172,  66],\n",
              "       [  0,   0,   0,   0,   0,   0,   0,   0,   0,   1,   1,   1,   0,\n",
              "        200, 232, 232, 233, 229, 223, 223, 215, 213, 164, 127, 123, 196,\n",
              "        229,   0],\n",
              "       [  0,   0,   0,   0,   0,   0,   0,   0,   0,   0,   0,   0,   0,\n",
              "        183, 225, 216, 223, 228, 235, 227, 224, 222, 224, 221, 223, 245,\n",
              "        173,   0],\n",
              "       [  0,   0,   0,   0,   0,   0,   0,   0,   0,   0,   0,   0,   0,\n",
              "        193, 228, 218, 213, 198, 180, 212, 210, 211, 213, 223, 220, 243,\n",
              "        202,   0],\n",
              "       [  0,   0,   0,   0,   0,   0,   0,   0,   0,   1,   3,   0,  12,\n",
              "        219, 220, 212, 218, 192, 169, 227, 208, 218, 224, 212, 226, 197,\n",
              "        209,  52],\n",
              "       [  0,   0,   0,   0,   0,   0,   0,   0,   0,   0,   6,   0,  99,\n",
              "        244, 222, 220, 218, 203, 198, 221, 215, 213, 222, 220, 245, 119,\n",
              "        167,  56],\n",
              "       [  0,   0,   0,   0,   0,   0,   0,   0,   0,   4,   0,   0,  55,\n",
              "        236, 228, 230, 228, 240, 232, 213, 218, 223, 234, 217, 217, 209,\n",
              "         92,   0],\n",
              "       [  0,   0,   1,   4,   6,   7,   2,   0,   0,   0,   0,   0, 237,\n",
              "        226, 217, 223, 222, 219, 222, 221, 216, 223, 229, 215, 218, 255,\n",
              "         77,   0],\n",
              "       [  0,   3,   0,   0,   0,   0,   0,   0,   0,  62, 145, 204, 228,\n",
              "        207, 213, 221, 218, 208, 211, 218, 224, 223, 219, 215, 224, 244,\n",
              "        159,   0],\n",
              "       [  0,   0,   0,   0,  18,  44,  82, 107, 189, 228, 220, 222, 217,\n",
              "        226, 200, 205, 211, 230, 224, 234, 176, 188, 250, 248, 233, 238,\n",
              "        215,   0],\n",
              "       [  0,  57, 187, 208, 224, 221, 224, 208, 204, 214, 208, 209, 200,\n",
              "        159, 245, 193, 206, 223, 255, 255, 221, 234, 221, 211, 220, 232,\n",
              "        246,   0],\n",
              "       [  3, 202, 228, 224, 221, 211, 211, 214, 205, 205, 205, 220, 240,\n",
              "         80, 150, 255, 229, 221, 188, 154, 191, 210, 204, 209, 222, 228,\n",
              "        225,   0],\n",
              "       [ 98, 233, 198, 210, 222, 229, 229, 234, 249, 220, 194, 215, 217,\n",
              "        241,  65,  73, 106, 117, 168, 219, 221, 215, 217, 223, 223, 224,\n",
              "        229,  29],\n",
              "       [ 75, 204, 212, 204, 193, 205, 211, 225, 216, 185, 197, 206, 198,\n",
              "        213, 240, 195, 227, 245, 239, 223, 218, 212, 209, 222, 220, 221,\n",
              "        230,  67],\n",
              "       [ 48, 203, 183, 194, 213, 197, 185, 190, 194, 192, 202, 214, 219,\n",
              "        221, 220, 236, 225, 216, 199, 206, 186, 181, 177, 172, 181, 205,\n",
              "        206, 115],\n",
              "       [  0, 122, 219, 193, 179, 171, 183, 196, 204, 210, 213, 207, 211,\n",
              "        210, 200, 196, 194, 191, 195, 191, 198, 192, 176, 156, 167, 177,\n",
              "        210,  92],\n",
              "       [  0,   0,  74, 189, 212, 191, 175, 172, 175, 181, 185, 188, 189,\n",
              "        188, 193, 198, 204, 209, 210, 210, 211, 188, 188, 194, 192, 216,\n",
              "        170,   0],\n",
              "       [  2,   0,   0,   0,  66, 200, 222, 237, 239, 242, 246, 243, 244,\n",
              "        221, 220, 193, 191, 179, 182, 182, 181, 176, 166, 168,  99,  58,\n",
              "          0,   0],\n",
              "       [  0,   0,   0,   0,   0,   0,   0,  40,  61,  44,  72,  41,  35,\n",
              "          0,   0,   0,   0,   0,   0,   0,   0,   0,   0,   0,   0,   0,\n",
              "          0,   0],\n",
              "       [  0,   0,   0,   0,   0,   0,   0,   0,   0,   0,   0,   0,   0,\n",
              "          0,   0,   0,   0,   0,   0,   0,   0,   0,   0,   0,   0,   0,\n",
              "          0,   0],\n",
              "       [  0,   0,   0,   0,   0,   0,   0,   0,   0,   0,   0,   0,   0,\n",
              "          0,   0,   0,   0,   0,   0,   0,   0,   0,   0,   0,   0,   0,\n",
              "          0,   0]], dtype=uint8)"
            ]
          },
          "metadata": {},
          "execution_count": 36
        }
      ]
    },
    {
      "cell_type": "code",
      "source": [
        "c[0]"
      ],
      "metadata": {
        "colab": {
          "base_uri": "https://localhost:8080/"
        },
        "id": "rQoDIeuJYjRq",
        "outputId": "ff5591cd-5c8f-44f3-999e-c6a5c867704a"
      },
      "execution_count": 37,
      "outputs": [
        {
          "output_type": "execute_result",
          "data": {
            "text/plain": [
              "array([[  0,   0,   0,   0,   0,   0,   0,   0,   0,   0,   0,   0,   0,\n",
              "          0,   0,   0,   0,   0,   0,   0,   0,   0,   0,   0,   0,   0,\n",
              "          0,   0],\n",
              "       [  0,   0,   0,   0,   0,   0,   0,   0,   0,   0,   0,   0,   0,\n",
              "          0,   0,   0,   0,   0,   0,   0,   0,   0,   0,   0,   0,   0,\n",
              "          0,   0],\n",
              "       [  0,   0,   0,   0,   0,   0,   0,   0,   0,   0,   0,   0,   0,\n",
              "          0,   0,   0,   0,   0,   0,   0,   0,   0,   0,   0,   0,   0,\n",
              "          0,   0],\n",
              "       [  0,   0,   0,   0,   0,   0,   0,   0,   0,   0,   0,   0,   0,\n",
              "          0,   0,   0,   0,   0,   0,   0,   0,   0,   0,   0,   0,   0,\n",
              "          0,   0],\n",
              "       [  0,   0,   0,   0,   0,   0,   0,   0,   0,   0,   0,   0,   0,\n",
              "          0,   0,   0,   0,   0,   0,   0,   0,   0,   0,   0,   0,   0,\n",
              "          0,   0],\n",
              "       [  0,   0,   0,   0,   0,   0,   0,   0,   0,   0,   0,   0,   0,\n",
              "          0,   0,   0,   0,   0,   0,   0,   0,   0,   0,   0,   0,   0,\n",
              "          0,   0],\n",
              "       [  0,   0,   0,   0,   0,   0,   0,   0,   0,   0,   0,   0,   0,\n",
              "          0,   0,   0,   0,   0,   0,   0,   0,   0,   0,   0,   0,   0,\n",
              "          0,   0],\n",
              "       [  0,   0,   0,   0,   0,   0,   0,   0,   0,   0,   0,   0,   0,\n",
              "          0,   0,   0,   0,   0,   0,   3,   1,   0,   0,   7,   0,  37,\n",
              "          0,   0],\n",
              "       [  0,   0,   0,   0,   0,   0,   0,   0,   0,   0,   0,   0,   0,\n",
              "          1,   2,   0,  27,  84,  11,   0,   0,   0,   0,   0,   0, 119,\n",
              "          0,   0],\n",
              "       [  0,   0,   0,   0,   0,   0,   0,   0,   0,   0,   0,   0,   0,\n",
              "          1,   0,   0,  88, 143, 110,   0,   0,   0,   0,  22,  93, 106,\n",
              "          0,   0],\n",
              "       [  0,   0,   0,   0,   0,   0,   0,   0,   0,   0,   0,   0,   0,\n",
              "          4,   0,  53, 129, 120, 147, 175, 157, 166, 135, 154, 168, 140,\n",
              "          0,   0],\n",
              "       [  0,   0,   0,   0,   0,   0,   0,   0,   0,   0,   0,   0,   2,\n",
              "          0,  11, 137, 130, 128, 160, 176, 159, 167, 178, 149, 151, 144,\n",
              "          0,   0],\n",
              "       [  0,   0,   0,   0,   0,   0,   1,   0,   2,   1,   0,   3,   0,\n",
              "          0, 115, 114, 106, 137, 168, 153, 156, 165, 167, 143, 157, 158,\n",
              "         11,   0],\n",
              "       [  0,   0,   0,   0,   1,   0,   0,   0,   0,   0,   3,   0,   0,\n",
              "         89, 139,  90,  94, 153, 149, 131, 151, 169, 172, 143, 159, 169,\n",
              "         48,   0],\n",
              "       [  0,   0,   0,   0,   0,   0,   2,   4,   1,   0,   0,   0,  98,\n",
              "        136, 110, 109, 110, 162, 135, 144, 149, 159, 167, 144, 158, 169,\n",
              "        119,   0],\n",
              "       [  0,   0,   2,   2,   1,   2,   0,   0,   0,   0,  26, 108, 117,\n",
              "         99, 111, 117, 136, 156, 134, 154, 154, 156, 160, 141, 147, 156,\n",
              "        178,   0],\n",
              "       [  3,   0,   0,   0,   0,   0,   0,  21,  53,  92, 117, 111, 103,\n",
              "        115, 129, 134, 143, 154, 165, 170, 154, 151, 154, 143, 138, 150,\n",
              "        165,  43],\n",
              "       [  0,   0,  23,  54,  65,  76,  85, 118, 128, 123, 111, 113, 118,\n",
              "        127, 125, 139, 133, 136, 160, 140, 155, 161, 144, 155, 172, 161,\n",
              "        189,  62],\n",
              "       [  0,  68,  94,  90, 111, 114, 111, 114, 115, 127, 135, 136, 143,\n",
              "        126, 127, 151, 154, 143, 148, 125, 162, 162, 144, 138, 153, 162,\n",
              "        196,  58],\n",
              "       [ 70, 169, 129, 104,  98, 100,  94,  97,  98, 102, 108, 106, 119,\n",
              "        120, 129, 149, 156, 167, 190, 190, 196, 198, 198, 187, 197, 189,\n",
              "        184,  36],\n",
              "       [ 16, 126, 171, 188, 188, 184, 171, 153, 135, 120, 126, 127, 146,\n",
              "        185, 195, 209, 208, 255, 209, 177, 245, 252, 251, 251, 247, 220,\n",
              "        206,  49],\n",
              "       [  0,   0,   0,  12,  67, 106, 164, 185, 199, 210, 211, 210, 208,\n",
              "        190, 150,  82,   8,   0,   0,   0, 178, 208, 188, 175, 162, 158,\n",
              "        151,  11],\n",
              "       [  0,   0,   0,   0,   0,   0,   0,   0,   0,   0,   0,   0,   0,\n",
              "          0,   0,   0,   0,   0,   0,   0,   0,   0,   0,   0,   0,   0,\n",
              "          0,   0],\n",
              "       [  0,   0,   0,   0,   0,   0,   0,   0,   0,   0,   0,   0,   0,\n",
              "          0,   0,   0,   0,   0,   0,   0,   0,   0,   0,   0,   0,   0,\n",
              "          0,   0],\n",
              "       [  0,   0,   0,   0,   0,   0,   0,   0,   0,   0,   0,   0,   0,\n",
              "          0,   0,   0,   0,   0,   0,   0,   0,   0,   0,   0,   0,   0,\n",
              "          0,   0],\n",
              "       [  0,   0,   0,   0,   0,   0,   0,   0,   0,   0,   0,   0,   0,\n",
              "          0,   0,   0,   0,   0,   0,   0,   0,   0,   0,   0,   0,   0,\n",
              "          0,   0],\n",
              "       [  0,   0,   0,   0,   0,   0,   0,   0,   0,   0,   0,   0,   0,\n",
              "          0,   0,   0,   0,   0,   0,   0,   0,   0,   0,   0,   0,   0,\n",
              "          0,   0],\n",
              "       [  0,   0,   0,   0,   0,   0,   0,   0,   0,   0,   0,   0,   0,\n",
              "          0,   0,   0,   0,   0,   0,   0,   0,   0,   0,   0,   0,   0,\n",
              "          0,   0]], dtype=uint8)"
            ]
          },
          "metadata": {},
          "execution_count": 37
        }
      ]
    },
    {
      "cell_type": "code",
      "source": [
        "b[0]"
      ],
      "metadata": {
        "colab": {
          "base_uri": "https://localhost:8080/"
        },
        "id": "O7dXtnvBYt3j",
        "outputId": "a133397e-df2e-4609-cdf1-612a5aaeb508"
      },
      "execution_count": 38,
      "outputs": [
        {
          "output_type": "execute_result",
          "data": {
            "text/plain": [
              "9"
            ]
          },
          "metadata": {},
          "execution_count": 38
        }
      ]
    },
    {
      "cell_type": "code",
      "source": [
        "(xtrain,ytrain), (xtest,ytest)= datasets.fashion_mnist.load_data()"
      ],
      "metadata": {
        "id": "aDayFdOuYxaG"
      },
      "execution_count": 39,
      "outputs": []
    },
    {
      "cell_type": "code",
      "source": [
        "import cv2 \n",
        "from google.colab.patches import cv2_imshow"
      ],
      "metadata": {
        "id": "x7SA-y-WY-2V"
      },
      "execution_count": 40,
      "outputs": []
    },
    {
      "cell_type": "code",
      "source": [
        "from matplotlib import pyplot as plt\n",
        "plt.figure()\n",
        "plt.imshow(xtrain[0],cmap='gray')"
      ],
      "metadata": {
        "colab": {
          "base_uri": "https://localhost:8080/",
          "height": 282
        },
        "id": "2Oa_AAnQb02V",
        "outputId": "0b0632d6-170b-4383-842d-a54a8bb88956"
      },
      "execution_count": 41,
      "outputs": [
        {
          "output_type": "execute_result",
          "data": {
            "text/plain": [
              "<matplotlib.image.AxesImage at 0x7f4a46acd810>"
            ]
          },
          "metadata": {},
          "execution_count": 41
        },
        {
          "output_type": "display_data",
          "data": {
            "text/plain": [
              "<Figure size 432x288 with 1 Axes>"
            ],
            "image/png": "[encoded data removed]"
          },
          "metadata": {
            "needs_background": "light"
          }
        }
      ]
    },
    {
      "cell_type": "code",
      "source": [
        "class_names = ['T-shirt/top', 'Trouser', 'Pullover', 'Dress', 'Coat',\n",
        "               'Sandal', 'Shirt', 'Sneaker', 'Bag', 'Ankle boot'] \n",
        "               "
      ],
      "metadata": {
        "id": "BMISFimRcdj5"
      },
      "execution_count": 42,
      "outputs": []
    },
    {
      "cell_type": "code",
      "source": [
        "class_names[ytrain[0]]"
      ],
      "metadata": {
        "colab": {
          "base_uri": "https://localhost:8080/",
          "height": 35
        },
        "id": "qgrLvnTwcuRZ",
        "outputId": "022495fb-c371-4e3b-da32-2227e6e9acd4"
      },
      "execution_count": 43,
      "outputs": [
        {
          "output_type": "execute_result",
          "data": {
            "text/plain": [
              "'Ankle boot'"
            ],
            "application/vnd.google.colaboratory.intrinsic+json": {
              "type": "string"
            }
          },
          "metadata": {},
          "execution_count": 43
        }
      ]
    },
    {
      "cell_type": "code",
      "source": [
        "from matplotlib import pyplot as plt\n",
        "plt.figure()\n",
        "plt.imshow(xtrain[2041],cmap='gray')"
      ],
      "metadata": {
        "colab": {
          "base_uri": "https://localhost:8080/",
          "height": 282
        },
        "id": "K-CxRNakcesx",
        "outputId": "10190605-90db-4c2f-977c-29396980478d"
      },
      "execution_count": 44,
      "outputs": [
        {
          "output_type": "execute_result",
          "data": {
            "text/plain": [
              "<matplotlib.image.AxesImage at 0x7f4a46ab6810>"
            ]
          },
          "metadata": {},
          "execution_count": 44
        },
        {
          "output_type": "display_data",
          "data": {
            "text/plain": [
              "<Figure size 432x288 with 1 Axes>"
            ],
            "image/png": "[encoded data removed]"
          },
          "metadata": {
            "needs_background": "light"
          }
        }
      ]
    },
    {
      "cell_type": "code",
      "source": [
        "from keras.layers import Flatten,Dense"
      ],
      "metadata": {
        "id": "hPH4QNnKdrma"
      },
      "execution_count": 45,
      "outputs": []
    },
    {
      "cell_type": "code",
      "source": [
        "l1=Flatten() \n",
        "l2=Dense(256) \n",
        "l3= Dense(512) \n",
        "l4=Dense(10)"
      ],
      "metadata": {
        "id": "vTxFaR91d2Fo"
      },
      "execution_count": 46,
      "outputs": []
    },
    {
      "cell_type": "code",
      "source": [
        "model=keras.Sequential([l1,l2,l3,l4]) \n",
        "#find cost of v1 v2 if v2<v1 then move forward but stops in local minima(stochaistic) \n",
        "#if divide in batches and find minima in each batch then compare with minima of each batch then batch grad descent \n",
        "#RMS Propagation: find euclidean distance and propagate in distance of least square. \n",
        "#adoptive learning: increasing and decreasing the learning rate \n",
        "#if you get pushed towards the right answer then momentum is introduced--> this is adam \n",
        "#for loss function->RMS and for classification->log loss, binary loss entropy"
      ],
      "metadata": {
        "id": "wBDGBkcMfEJE"
      },
      "execution_count": 47,
      "outputs": []
    },
    {
      "cell_type": "code",
      "source": [
        "model.compile(loss=keras.losses.SparseCategoricalCrossentropy(from_logits=True),optimizer='adam',metrics=['accuracy']) "
      ],
      "metadata": {
        "id": "FvggXa7Lfi7B"
      },
      "execution_count": 48,
      "outputs": []
    },
    {
      "cell_type": "code",
      "source": [
        "model.fit(xtrain,ytrain,epochs=20)"
      ],
      "metadata": {
        "colab": {
          "base_uri": "https://localhost:8080/"
        },
        "id": "3-ZDDO4QkQyM",
        "outputId": "e10ecbe3-4c65-4cbd-e606-807e8e827649"
      },
      "execution_count": 49,
      "outputs": [
        {
          "output_type": "stream",
          "name": "stdout",
          "text": [
            "Epoch 1/20\n",
            "1875/1875 [==============================] - 10s 5ms/step - loss: 19.0946\n",
            "Epoch 2/20\n",
            "1875/1875 [==============================] - 10s 5ms/step - loss: 4.3913\n",
            "Epoch 3/20\n",
            "1875/1875 [==============================] - 10s 5ms/step - loss: 3.7214\n",
            "Epoch 4/20\n",
            "1875/1875 [==============================] - 10s 5ms/step - loss: 2.4086\n",
            "Epoch 5/20\n",
            "1875/1875 [==============================] - 9s 5ms/step - loss: 1.7502\n",
            "Epoch 6/20\n",
            "1875/1875 [==============================] - 9s 5ms/step - loss: 5.1626\n",
            "Epoch 7/20\n",
            "1875/1875 [==============================] - 9s 5ms/step - loss: 0.8592\n",
            "Epoch 8/20\n",
            "1875/1875 [==============================] - 9s 5ms/step - loss: 0.7746\n",
            "Epoch 9/20\n",
            "1875/1875 [==============================] - 9s 5ms/step - loss: 6.3463\n",
            "Epoch 10/20\n",
            "1875/1875 [==============================] - 9s 5ms/step - loss: 0.6791\n",
            "Epoch 11/20\n",
            "1875/1875 [==============================] - 9s 5ms/step - loss: 4.8706\n",
            "Epoch 12/20\n",
            "1875/1875 [==============================] - 9s 5ms/step - loss: 0.8003\n",
            "Epoch 13/20\n",
            "1875/1875 [==============================] - 10s 5ms/step - loss: 3.7700\n",
            "Epoch 14/20\n",
            "1875/1875 [==============================] - 9s 5ms/step - loss: 0.9480\n",
            "Epoch 15/20\n",
            "1875/1875 [==============================] - 9s 5ms/step - loss: 0.6713\n",
            "Epoch 16/20\n",
            "1875/1875 [==============================] - 10s 5ms/step - loss: 2.4674\n",
            "Epoch 17/20\n",
            "1875/1875 [==============================] - 10s 5ms/step - loss: 1.7425\n",
            "Epoch 18/20\n",
            "1875/1875 [==============================] - 9s 5ms/step - loss: 0.9217\n",
            "Epoch 19/20\n",
            "1875/1875 [==============================] - 10s 5ms/step - loss: 4.2691\n",
            "Epoch 20/20\n",
            "1875/1875 [==============================] - 10s 5ms/step - loss: 0.6563\n"
          ]
        },
        {
          "output_type": "execute_result",
          "data": {
            "text/plain": [
              "<keras.callbacks.History at 0x7f4a46a88e10>"
            ]
          },
          "metadata": {},
          "execution_count": 49
        }
      ]
    },
    {
      "cell_type": "code",
      "source": [
        "model.summary()"
      ],
      "metadata": {
        "colab": {
          "base_uri": "https://localhost:8080/"
        },
        "id": "3y1T5VLsmBDh",
        "outputId": "48a3312f-549c-4f47-a579-d0a75cf2a8b2"
      },
      "execution_count": 52,
      "outputs": [
        {
          "output_type": "stream",
          "name": "stdout",
          "text": [
            "Model: \"sequential_1\"\n",
            "_________________________________________________________________\n",
            " Layer (type)                Output Shape              Param #   \n",
            "=================================================================\n",
            " flatten_1 (Flatten)         (32, 784)                 0         \n",
            "                                                                 \n",
            " dense_3 (Dense)             (32, 256)                 200960    \n",
            "                                                                 \n",
            " dense_4 (Dense)             (32, 512)                 131584    \n",
            "                                                                 \n",
            " dense_5 (Dense)             (32, 10)                  5130      \n",
            "                                                                 \n",
            "=================================================================\n",
            "Total params: 337,674\n",
            "Trainable params: 337,674\n",
            "Non-trainable params: 0\n",
            "_________________________________________________________________\n"
          ]
        }
      ]
    },
    {
      "cell_type": "code",
      "source": [
        "p=model.predict(xtest)\n"
      ],
      "metadata": {
        "id": "XEaK-OGcJias"
      },
      "execution_count": 53,
      "outputs": []
    },
    {
      "cell_type": "code",
      "source": [
        "p[0], class_names[ytest[0]]"
      ],
      "metadata": {
        "colab": {
          "base_uri": "https://localhost:8080/"
        },
        "id": "Ngf-oXwVJ2go",
        "outputId": "2b52579f-b7c9-4e80-9316-0a91da6cdda7"
      },
      "execution_count": 54,
      "outputs": [
        {
          "output_type": "execute_result",
          "data": {
            "text/plain": [
              "(array([-12.444213 , -16.74073  , -12.633277 , -10.9012985, -13.825573 ,\n",
              "         37.408714 , -10.327469 ,  37.14596  ,  -4.7217264,  43.376884 ],\n",
              "       dtype=float32), 'Ankle boot')"
            ]
          },
          "metadata": {},
          "execution_count": 54
        }
      ]
    },
    {
      "cell_type": "code",
      "source": [
        "import numpy as np \n",
        "class_names[np.argmax(p[0])],class_names[ytest[0]]"
      ],
      "metadata": {
        "colab": {
          "base_uri": "https://localhost:8080/"
        },
        "id": "X4cZ1n__Khed",
        "outputId": "b87066ed-34c2-414e-a8ef-f67d4853f772"
      },
      "execution_count": 56,
      "outputs": [
        {
          "output_type": "execute_result",
          "data": {
            "text/plain": [
              "('Ankle boot', 'Ankle boot')"
            ]
          },
          "metadata": {},
          "execution_count": 56
        }
      ]
    },
    {
      "cell_type": "code",
      "source": [
        "mistakes=0\n",
        "for idx,result in enumerate(p):  #0-A 1-B 2-C etc\n",
        "   if(class_names[np.argmax(p[idx])] != class_names[ytest[idx]]):\n",
        "     mistakes+=1\n",
        "mistakes"
      ],
      "metadata": {
        "colab": {
          "base_uri": "https://localhost:8080/"
        },
        "id": "vIRXBYbELGEL",
        "outputId": "a5aff293-2c20-4053-e0a6-ed2ff79db52a"
      },
      "execution_count": 64,
      "outputs": [
        {
          "output_type": "execute_result",
          "data": {
            "text/plain": [
              "1780"
            ]
          },
          "metadata": {},
          "execution_count": 64
        }
      ]
    },
    {
      "cell_type": "code",
      "source": [
        "len(xtest)"
      ],
      "metadata": {
        "colab": {
          "base_uri": "https://localhost:8080/"
        },
        "id": "UofljeZiQnrt",
        "outputId": "f45ee5d3-db56-4d66-a7d1-ceb4fbaf5797"
      },
      "execution_count": 65,
      "outputs": [
        {
          "output_type": "execute_result",
          "data": {
            "text/plain": [
              "10000"
            ]
          },
          "metadata": {},
          "execution_count": 65
        }
      ]
    },
    {
      "cell_type": "code",
      "source": [
        "l12=Flatten() \n",
        "l22=Dense(256,activation=tf.nn.relu) \n",
        "l32= Dense(512,activation=tf.nn.relu) \n",
        "l42=Dense(10,activation=tf.nn.softmax) \n",
        "m2 = keras.Sequential([l12,l22,l32,l42])"
      ],
      "metadata": {
        "id": "26QhRxU7QqSv"
      },
      "execution_count": 67,
      "outputs": []
    },
    {
      "cell_type": "code",
      "source": [
        "m2.compile(loss=keras.losses.SparseCategoricalCrossentropy(from_logits=False),optimizer='adam')"
      ],
      "metadata": {
        "id": "T-KQ2_yOVfnQ"
      },
      "execution_count": 68,
      "outputs": []
    },
    {
      "cell_type": "code",
      "source": [
        "m2.fit(xtrain,ytrain,epochs=20)"
      ],
      "metadata": {
        "colab": {
          "base_uri": "https://localhost:8080/"
        },
        "id": "f0L4fsRbV4pD",
        "outputId": "afa42c03-dd9e-4066-d904-ad8fe15ca729"
      },
      "execution_count": 70,
      "outputs": [
        {
          "output_type": "stream",
          "name": "stdout",
          "text": [
            "Epoch 1/20\n",
            "1875/1875 [==============================] - 11s 5ms/step - loss: 1.7772\n",
            "Epoch 2/20\n",
            "1875/1875 [==============================] - 11s 6ms/step - loss: 0.7804\n",
            "Epoch 3/20\n",
            "1875/1875 [==============================] - 10s 5ms/step - loss: 0.7062\n",
            "Epoch 4/20\n",
            "1875/1875 [==============================] - 10s 5ms/step - loss: 0.6090\n",
            "Epoch 5/20\n",
            "1875/1875 [==============================] - 10s 5ms/step - loss: 0.5489\n",
            "Epoch 6/20\n",
            "1875/1875 [==============================] - 10s 5ms/step - loss: 0.5146\n",
            "Epoch 7/20\n",
            "1875/1875 [==============================] - 10s 5ms/step - loss: 0.4986\n",
            "Epoch 8/20\n",
            "1875/1875 [==============================] - 12s 6ms/step - loss: 0.4807\n",
            "Epoch 9/20\n",
            "1875/1875 [==============================] - 11s 6ms/step - loss: 0.4793\n",
            "Epoch 10/20\n",
            "1875/1875 [==============================] - 10s 6ms/step - loss: 0.4695\n",
            "Epoch 11/20\n",
            "1875/1875 [==============================] - 11s 6ms/step - loss: 0.4531\n",
            "Epoch 12/20\n",
            "1875/1875 [==============================] - 11s 6ms/step - loss: 0.4625\n",
            "Epoch 13/20\n",
            "1875/1875 [==============================] - 10s 5ms/step - loss: 0.4408\n",
            "Epoch 14/20\n",
            "1875/1875 [==============================] - 10s 6ms/step - loss: 0.4423\n",
            "Epoch 15/20\n",
            "1875/1875 [==============================] - 10s 6ms/step - loss: 0.4191\n",
            "Epoch 16/20\n",
            "1875/1875 [==============================] - 10s 6ms/step - loss: 0.4145\n",
            "Epoch 17/20\n",
            "1875/1875 [==============================] - 11s 6ms/step - loss: 0.4127\n",
            "Epoch 18/20\n",
            "1875/1875 [==============================] - 10s 6ms/step - loss: 0.3971\n",
            "Epoch 19/20\n",
            "1875/1875 [==============================] - 11s 6ms/step - loss: 0.4166\n",
            "Epoch 20/20\n",
            "1875/1875 [==============================] - 10s 5ms/step - loss: 0.4098\n"
          ]
        },
        {
          "output_type": "execute_result",
          "data": {
            "text/plain": [
              "<keras.callbacks.History at 0x7f4a3fd18c50>"
            ]
          },
          "metadata": {},
          "execution_count": 70
        }
      ]
    },
    {
      "cell_type": "code",
      "source": [
        "l13 = Flatten()\n",
        "l23 = Dense(1024)\n",
        "l33 = Dense(2048)\n",
        "l43 = Dense(10)\n",
        "m3 = keras.Sequential([l13,l23,l33,l43])"
      ],
      "metadata": {
        "id": "H_qSJGHyWDyY"
      },
      "execution_count": 71,
      "outputs": []
    },
    {
      "cell_type": "code",
      "source": [
        "m3.compile(loss=keras.losses.SparseCategoricalCrossentropy(from_logits=True),optimizer='adam')"
      ],
      "metadata": {
        "id": "DT_npBmgW-Yi"
      },
      "execution_count": 72,
      "outputs": []
    },
    {
      "cell_type": "code",
      "source": [
        "m3.fit(xtrain,ytrain,epochs=20)"
      ],
      "metadata": {
        "colab": {
          "base_uri": "https://localhost:8080/"
        },
        "id": "8o02HY_WXOXt",
        "outputId": "d50e4c74-235a-4e2a-8214-258bdb35be98"
      },
      "execution_count": 74,
      "outputs": [
        {
          "output_type": "stream",
          "name": "stdout",
          "text": [
            "Epoch 1/20\n",
            "1875/1875 [==============================] - 81s 43ms/step - loss: 2.5856\n",
            "Epoch 2/20\n",
            "1875/1875 [==============================] - 81s 43ms/step - loss: 2.3026\n",
            "Epoch 3/20\n",
            "1875/1875 [==============================] - 80s 43ms/step - loss: 2.3026\n",
            "Epoch 4/20\n",
            "1875/1875 [==============================] - 84s 45ms/step - loss: 2.3026\n",
            "Epoch 5/20\n",
            "1875/1875 [==============================] - 86s 46ms/step - loss: 2.3026\n",
            "Epoch 6/20\n",
            "1875/1875 [==============================] - 91s 49ms/step - loss: 2.3026\n",
            "Epoch 7/20\n",
            "1875/1875 [==============================] - 94s 50ms/step - loss: 2.3026\n",
            "Epoch 8/20\n",
            "1875/1875 [==============================] - 82s 44ms/step - loss: 2.3026\n",
            "Epoch 9/20\n",
            "1875/1875 [==============================] - 82s 44ms/step - loss: 2.3026\n",
            "Epoch 10/20\n",
            "1875/1875 [==============================] - 82s 44ms/step - loss: 2.3026\n",
            "Epoch 11/20\n",
            "1875/1875 [==============================] - 81s 43ms/step - loss: 2.3026\n",
            "Epoch 12/20\n",
            "1875/1875 [==============================] - 78s 41ms/step - loss: 2.3026\n",
            "Epoch 13/20\n",
            "1875/1875 [==============================] - 79s 42ms/step - loss: 2.3026\n",
            "Epoch 14/20\n",
            "1875/1875 [==============================] - 80s 43ms/step - loss: 2.3026\n",
            "Epoch 15/20\n",
            "1875/1875 [==============================] - 79s 42ms/step - loss: 2.3026\n",
            "Epoch 16/20\n",
            "1875/1875 [==============================] - 79s 42ms/step - loss: 2.3026\n",
            "Epoch 17/20\n",
            "1875/1875 [==============================] - 78s 42ms/step - loss: 2.3026\n",
            "Epoch 18/20\n",
            "1875/1875 [==============================] - 80s 43ms/step - loss: 2.3026\n",
            "Epoch 19/20\n",
            "1875/1875 [==============================] - 79s 42ms/step - loss: 2.3026\n",
            "Epoch 20/20\n",
            "1875/1875 [==============================] - 80s 43ms/step - loss: 2.3026\n"
          ]
        },
        {
          "output_type": "execute_result",
          "data": {
            "text/plain": [
              "<keras.callbacks.History at 0x7f4a3eba1790>"
            ]
          },
          "metadata": {},
          "execution_count": 74
        }
      ]
    },
    {
      "cell_type": "code",
      "source": [
        "l14 = Flatten()\n",
        "l24 = Dense(1024)\n",
        "l34 = Dense(2048)\n",
        "l44 = Dense(10)\n",
        "m4 = keras.Sequential([l14,l24,l34,l44])"
      ],
      "metadata": {
        "id": "MfeUfuo5YvzE"
      },
      "execution_count": 75,
      "outputs": []
    },
    {
      "cell_type": "code",
      "source": [
        "m4.compile(loss=keras.losses.SparseCategoricalCrossentropy(from_logits=True),optimizer='adam')"
      ],
      "metadata": {
        "id": "vRQbQV7AZKKu"
      },
      "execution_count": 76,
      "outputs": []
    },
    {
      "cell_type": "code",
      "source": [
        "m4.fit(xtrain,ytrain,batch_size=128)"
      ],
      "metadata": {
        "colab": {
          "base_uri": "https://localhost:8080/"
        },
        "id": "evobFULbZl1J",
        "outputId": "6484b6a0-d2c0-4c0b-e9a4-89d0be10e0af"
      },
      "execution_count": 77,
      "outputs": [
        {
          "output_type": "stream",
          "name": "stdout",
          "text": [
            "469/469 [==============================] - 33s 70ms/step - loss: 59.8026\n"
          ]
        },
        {
          "output_type": "execute_result",
          "data": {
            "text/plain": [
              "<keras.callbacks.History at 0x7f4a426734d0>"
            ]
          },
          "metadata": {},
          "execution_count": 77
        }
      ]
    },
    {
      "cell_type": "code",
      "source": [
        "p2 = m2.predict(xtest)\n",
        "p3 = m3.predict(xtest)"
      ],
      "metadata": {
        "id": "pq1PQ2yAhY4N"
      },
      "execution_count": 78,
      "outputs": []
    },
    {
      "cell_type": "code",
      "source": [
        "mistake1 = 0\n",
        "mistake2=0\n",
        "mistake3=0\n",
        "for idx, result in enumerate(p):\n",
        "  if(class_names[np.argmax(p[idx])] != class_names[ytest[idx]]):\n",
        "    mistake1 += 1\n",
        "  if(class_names[np.argmax(p2[idx])] != class_names[ytest[idx]]):\n",
        "    mistake2 += 1\n",
        "  if(class_names[np.argmax(p3[idx])] != class_names[ytest[idx]]):\n",
        "    mistake3 += 1"
      ],
      "metadata": {
        "id": "o2dmkhadjYuT"
      },
      "execution_count": 79,
      "outputs": []
    },
    {
      "cell_type": "code",
      "source": [
        "mistake1"
      ],
      "metadata": {
        "colab": {
          "base_uri": "https://localhost:8080/"
        },
        "id": "Ha6bCn_sjffN",
        "outputId": "f0d05a7d-85ea-455c-fe74-85f1c02f02e6"
      },
      "execution_count": 80,
      "outputs": [
        {
          "output_type": "execute_result",
          "data": {
            "text/plain": [
              "1780"
            ]
          },
          "metadata": {},
          "execution_count": 80
        }
      ]
    },
    {
      "cell_type": "code",
      "source": [
        "mistake2"
      ],
      "metadata": {
        "colab": {
          "base_uri": "https://localhost:8080/"
        },
        "id": "f9jTWMBpjhh5",
        "outputId": "c86ea218-5e9d-45ba-a23d-6815fc58d0ea"
      },
      "execution_count": 81,
      "outputs": [
        {
          "output_type": "execute_result",
          "data": {
            "text/plain": [
              "1567"
            ]
          },
          "metadata": {},
          "execution_count": 81
        }
      ]
    },
    {
      "cell_type": "code",
      "source": [
        "mistake3"
      ],
      "metadata": {
        "colab": {
          "base_uri": "https://localhost:8080/"
        },
        "id": "mtg21lQUjjwn",
        "outputId": "1bc56bfc-356b-4ecf-fc05-5e0fbb772bce"
      },
      "execution_count": 82,
      "outputs": [
        {
          "output_type": "execute_result",
          "data": {
            "text/plain": [
              "8978"
            ]
          },
          "metadata": {},
          "execution_count": 82
        }
      ]
    },
    {
      "cell_type": "code",
      "source": [
        "m2.layers[1].get_weights()"
      ],
      "metadata": {
        "colab": {
          "base_uri": "https://localhost:8080/"
        },
        "id": "E7oQq5Wkjrsl",
        "outputId": "c60e9132-8e60-4419-b4ab-509e87c284f1"
      },
      "execution_count": 83,
      "outputs": [
        {
          "output_type": "execute_result",
          "data": {
            "text/plain": [
              "[array([[-0.07582142,  0.06011145,  0.03737339, ..., -0.04121342,\n",
              "          0.05810973, -0.05217589],\n",
              "        [-0.02195687, -0.06043817, -0.01119182, ..., -0.01038859,\n",
              "          0.04396779, -0.03776463],\n",
              "        [ 0.05903896, -0.05931722,  0.0767685 , ..., -0.01168175,\n",
              "          0.00220422,  0.05853846],\n",
              "        ...,\n",
              "        [ 0.03897191,  0.05073474, -0.08095205, ..., -0.03846664,\n",
              "         -0.02515464, -0.00726983],\n",
              "        [ 0.06367   , -0.01288398, -0.01385384, ...,  0.03537083,\n",
              "          0.0104544 ,  0.10374907],\n",
              "        [-0.06140757, -0.01551009, -0.05213683, ..., -0.05938639,\n",
              "          0.04959645,  0.04428451]], dtype=float32),\n",
              " array([-2.23800018e-02, -2.78111361e-02, -2.43500993e-02,  1.68202519e-01,\n",
              "        -2.13506576e-02, -4.18303767e-03, -2.25849673e-02,  7.54147694e-02,\n",
              "        -1.60960928e-02, -2.62782812e-01, -3.09073087e-02, -2.28058062e-02,\n",
              "        -1.63443647e-02, -1.88461281e-02,  2.68888306e-02, -9.09363572e-03,\n",
              "         1.31874057e-02, -2.39637811e-02, -3.41176391e-02, -3.69118676e-02,\n",
              "        -1.43298451e-02, -2.96986159e-02, -6.22450560e-03, -1.88238360e-02,\n",
              "        -3.34730931e-02, -3.52456607e-02, -3.03641204e-02, -1.03625236e-02,\n",
              "        -2.91935611e-03, -3.93420942e-02, -2.18518227e-02, -8.21306929e-03,\n",
              "        -2.90249065e-02,  9.61983751e-04, -2.62562968e-02, -1.24842990e-02,\n",
              "        -5.38970120e-02,  7.78401690e-03,  1.88431829e-01, -3.91959995e-02,\n",
              "        -1.88757200e-02, -3.62867378e-02, -5.06405868e-02, -6.23603612e-02,\n",
              "         1.09822357e+00,  4.78387475e-02, -3.73756923e-02,  2.00324971e-02,\n",
              "        -6.61916137e-02, -3.08038387e-02, -2.17834208e-02, -2.08039843e-02,\n",
              "        -1.78028792e-02, -2.38517784e-02, -5.36341518e-02, -2.31051482e-02,\n",
              "         5.04671633e-01, -2.06926391e-02, -3.92188095e-02, -3.56850326e-02,\n",
              "        -1.88470874e-02, -3.71061377e-02,  4.65129782e-03, -9.85841081e-03,\n",
              "        -2.28193067e-02, -2.98778414e-05, -5.14236391e-02, -3.20543386e-02,\n",
              "        -2.84877606e-02,  3.05882897e-02, -4.38499451e-02, -2.60227174e-02,\n",
              "        -3.58510786e-03, -3.67467217e-02,  8.57726634e-02, -3.75452898e-02,\n",
              "        -1.84041038e-02, -2.05612928e-02, -2.26460900e-02, -2.46619508e-02,\n",
              "         1.45755885e-02,  1.30556254e-02, -3.90144214e-02, -4.95358789e-03,\n",
              "        -1.32139996e-02,  6.33174032e-02, -2.09529735e-02, -1.79408267e-02,\n",
              "        -2.22067107e-02, -6.72392398e-02, -1.40666319e-02,  1.04026245e-02,\n",
              "        -3.30664665e-02, -2.19381247e-02, -2.19244920e-02,  1.21474871e-03,\n",
              "        -2.28429977e-02, -2.79371291e-02, -2.20898967e-02, -1.98355652e-02,\n",
              "        -2.28054188e-02,  1.51343336e-02, -1.61242690e-02,  3.42412814e-02,\n",
              "        -4.56538573e-02, -8.29724316e-03, -1.69190783e-02,  1.79804601e-02,\n",
              "        -4.92687151e-03, -1.54356873e-02, -1.44354282e-02, -5.42468764e-03,\n",
              "        -7.93392118e-03,  4.61791128e-01, -2.82551739e-02, -1.14026824e-02,\n",
              "        -3.22956517e-02, -4.34429944e-02, -1.86997764e-02, -3.23412269e-02,\n",
              "        -1.04011633e-02,  4.16184682e-03, -4.13626134e-02,  3.30692343e-02,\n",
              "        -2.80640777e-02,  2.29702890e-02, -2.29411088e-02, -3.37922946e-03,\n",
              "        -1.06517104e-02,  4.81700897e-03, -1.56257246e-02, -1.67899616e-02,\n",
              "        -1.58631112e-02, -3.37420255e-02, -3.04153059e-02, -1.52322147e-02,\n",
              "        -3.18709314e-02,  2.27326080e-02,  1.50497807e-02, -2.68487222e-02,\n",
              "         8.37829784e-02, -2.08940953e-02, -7.11962581e-03, -1.78806912e-02,\n",
              "        -9.43270046e-03, -1.39559833e-02, -3.11677661e-02, -8.78113601e-03,\n",
              "        -3.31506878e-02, -4.06901911e-02, -5.05601577e-02,  2.20174342e-01,\n",
              "        -1.29188886e-02, -1.65277608e-02, -2.28250474e-02, -4.94915014e-03,\n",
              "        -1.08009905e-01, -4.19670809e-03, -2.79999841e-02, -4.09678258e-02,\n",
              "        -2.00242996e-02,  2.99344724e-03, -1.21161537e-02, -2.02442296e-02,\n",
              "        -6.36017770e-02, -9.12516378e-03, -4.30422351e-02,  8.88240561e-02,\n",
              "        -3.40253524e-02,  2.02975911e-03,  2.09414680e-02, -2.89563034e-02,\n",
              "        -1.25369839e-02, -1.09080095e-02, -8.81061032e-02, -2.47160550e-02,\n",
              "        -2.27403790e-02, -5.57154650e-03,  1.48015461e-04, -1.49304532e-02,\n",
              "        -7.23414496e-02, -3.18878405e-02, -3.38217691e-02,  6.84615076e-02,\n",
              "        -7.95692485e-03,  1.60774514e-02,  6.15183711e-02, -5.67455947e-01,\n",
              "        -2.17715390e-02, -1.08895693e-02, -7.28061646e-02,  7.31504783e-02,\n",
              "        -3.08146905e-02,  3.18625085e-02, -3.95654663e-02, -9.94846318e-03,\n",
              "         2.80421469e-02, -2.92981565e-02, -2.46191099e-02, -3.78578575e-03,\n",
              "        -1.05802817e-02, -8.64249002e-03, -1.45524200e-02, -1.20998964e-01,\n",
              "         1.96378510e-02, -2.32563429e-02, -2.81145908e-02,  2.03605741e-02,\n",
              "        -6.17752038e-03, -2.35949177e-02, -2.72941813e-02, -1.74455997e-02,\n",
              "        -2.87293885e-02, -2.25961637e-02, -2.24644281e-02, -2.06647329e-02,\n",
              "        -1.43983401e-03, -3.81788723e-02, -3.25996168e-02,  7.13899583e-02,\n",
              "        -1.25259124e-02, -4.63329926e-02, -3.26251090e-02, -5.06100580e-02,\n",
              "        -4.29752320e-02, -3.69520336e-02, -3.75938863e-02, -1.22671081e-02,\n",
              "        -4.74324636e-02, -2.58009434e-02, -4.64865454e-02, -2.03076079e-02,\n",
              "        -1.69242900e-02, -2.48906016e-02,  2.98509955e-01,  3.78925174e-01,\n",
              "        -3.14159505e-02, -2.07935590e-02, -2.31183376e-02,  9.61807668e-01,\n",
              "         5.33616185e-01,  2.55759037e-03,  6.83423936e-01, -2.19232012e-02,\n",
              "        -3.14706489e-02, -2.13420317e-02,  1.58112898e-01, -2.66438462e-02,\n",
              "        -2.73653306e-02,  2.92191785e-02, -3.44186164e-02, -1.83384363e-02,\n",
              "        -3.53669040e-02, -1.93239562e-02, -3.61366421e-02, -3.65126766e-02],\n",
              "       dtype=float32)]"
            ]
          },
          "metadata": {},
          "execution_count": 83
        }
      ]
    },
    {
      "cell_type": "code",
      "source": [
        "data=datasets.imdb\n",
        "#data=datasets.fashion_mnist"
      ],
      "metadata": {
        "id": "4y6rZbGKHdkG"
      },
      "execution_count": 6,
      "outputs": []
    },
    {
      "cell_type": "code",
      "source": [
        "alldata=keras.datasets.imdb"
      ],
      "metadata": {
        "id": "j3V1-DTMIdOz"
      },
      "execution_count": 6,
      "outputs": []
    },
    {
      "cell_type": "code",
      "source": [
        "data=alldata.load_data()"
      ],
      "metadata": {
        "colab": {
          "base_uri": "https://localhost:8080/"
        },
        "id": "XuJ_SdjeIged",
        "outputId": "642e26f7-7fd3-4d35-96b9-83c0293e00cc"
      },
      "execution_count": 7,
      "outputs": [
        {
          "output_type": "stream",
          "name": "stdout",
          "text": [
            "Downloading data from https://storage.googleapis.com/tensorflow/tf-keras-datasets/imdb.npz\n",
            "17465344/17464789 [==============================] - 0s 0us/step\n",
            "17473536/17464789 [==============================] - 0s 0us/step\n"
          ]
        }
      ]
    },
    {
      "cell_type": "code",
      "source": [
        "len(data[0][0])"
      ],
      "metadata": {
        "colab": {
          "base_uri": "https://localhost:8080/"
        },
        "id": "EIDr3G72Iynh",
        "outputId": "b5bd978f-0d67-424d-f424-c39af5dd880a"
      },
      "execution_count": 10,
      "outputs": [
        {
          "output_type": "execute_result",
          "data": {
            "text/plain": [
              "25000"
            ]
          },
          "metadata": {},
          "execution_count": 10
        }
      ]
    },
    {
      "cell_type": "code",
      "source": [
        "len(data), len(data[0])\n"
      ],
      "metadata": {
        "colab": {
          "base_uri": "https://localhost:8080/"
        },
        "id": "eT_Clkt5GXlL",
        "outputId": "4162b9c5-cebe-4c72-c286-3b34dcea6e8a"
      },
      "execution_count": 8,
      "outputs": [
        {
          "output_type": "execute_result",
          "data": {
            "text/plain": [
              "(2, 2)"
            ]
          },
          "metadata": {},
          "execution_count": 8
        }
      ]
    },
    {
      "cell_type": "code",
      "source": [
        "hp_vocab_size=10000 \n",
        "hp_epochs=50 \n",
        "hp_batch_size=32 \n",
        "HP_maxlen = 256\n",
        "initial_lr=0.001 #after learning, lr should be 0 "
      ],
      "metadata": {
        "id": "7Dtzaa5lGl9V"
      },
      "execution_count": 39,
      "outputs": []
    },
    {
      "cell_type": "code",
      "source": [
        "opt = keras.optimizers.Adam(learning_rate=initial_lr)"
      ],
      "metadata": {
        "id": "VsLMcqKIGpuW"
      },
      "execution_count": 13,
      "outputs": []
    },
    {
      "cell_type": "code",
      "source": [
        "(xtrain,ytrain),(xtest,ytest)=keras.datasets.imdb.load_data(num_words=hp_vocab_size)"
      ],
      "metadata": {
        "id": "yaHZhaAwGyjs"
      },
      "execution_count": 15,
      "outputs": []
    },
    {
      "cell_type": "code",
      "source": [
        "print(xtrain[142])"
      ],
      "metadata": {
        "colab": {
          "base_uri": "https://localhost:8080/"
        },
        "id": "s1D-QrhfGb4-",
        "outputId": "df68aae4-44a3-44eb-a69b-10269eea9f7f"
      },
      "execution_count": 16,
      "outputs": [
        {
          "output_type": "stream",
          "name": "stdout",
          "text": [
            "[1, 137, 13, 62, 135, 13, 358, 4, 123, 13, 873, 142, 340, 275, 39, 54, 13, 86, 219, 2, 13, 40, 44, 2, 13, 873, 8, 169, 142, 367, 4, 411, 7, 2, 2, 13, 244, 24, 252, 48, 12, 9, 170, 23, 1627, 21, 13, 28, 8, 135, 13, 81, 40, 4, 123, 5, 137, 13, 92, 2, 12, 17, 6, 9019, 123, 12, 9, 55, 1220, 5, 13, 81, 40, 4, 1175, 200, 4, 105, 17, 73, 587, 4, 696, 177, 10, 10, 13, 62, 407, 135, 15, 12, 9, 87, 8, 67, 7918, 4409, 145, 23, 4, 268, 88, 13, 66, 447, 90, 11, 543, 232, 13, 69, 82, 110, 4, 255, 37, 299, 2, 464, 11, 1063, 5, 137, 13, 104, 15, 16, 35, 864, 123, 13, 81, 24, 66, 40, 41, 109, 11, 14, 123, 88, 442, 43, 24, 61, 3647, 7, 3384, 21, 59, 7366, 12, 46, 184, 73]\n"
          ]
        }
      ]
    },
    {
      "cell_type": "code",
      "source": [
        "ytrain[0], ytrain[789]"
      ],
      "metadata": {
        "colab": {
          "base_uri": "https://localhost:8080/"
        },
        "id": "hwpxMI2nHU8R",
        "outputId": "dde992de-e1df-41fd-c050-f9dc960ea69e"
      },
      "execution_count": 17,
      "outputs": [
        {
          "output_type": "execute_result",
          "data": {
            "text/plain": [
              "(1, 0)"
            ]
          },
          "metadata": {},
          "execution_count": 17
        }
      ]
    },
    {
      "cell_type": "code",
      "source": [
        "print(xtrain[0])"
      ],
      "metadata": {
        "colab": {
          "base_uri": "https://localhost:8080/"
        },
        "id": "vTlP5JKgHdTX",
        "outputId": "48ef8c68-ef7c-4616-9202-165a61c72c95"
      },
      "execution_count": 18,
      "outputs": [
        {
          "output_type": "stream",
          "name": "stdout",
          "text": [
            "[1, 14, 22, 16, 43, 530, 973, 1622, 1385, 65, 458, 4468, 66, 3941, 4, 173, 36, 256, 5, 25, 100, 43, 838, 112, 50, 670, 2, 9, 35, 480, 284, 5, 150, 4, 172, 112, 167, 2, 336, 385, 39, 4, 172, 4536, 1111, 17, 546, 38, 13, 447, 4, 192, 50, 16, 6, 147, 2025, 19, 14, 22, 4, 1920, 4613, 469, 4, 22, 71, 87, 12, 16, 43, 530, 38, 76, 15, 13, 1247, 4, 22, 17, 515, 17, 12, 16, 626, 18, 2, 5, 62, 386, 12, 8, 316, 8, 106, 5, 4, 2223, 5244, 16, 480, 66, 3785, 33, 4, 130, 12, 16, 38, 619, 5, 25, 124, 51, 36, 135, 48, 25, 1415, 33, 6, 22, 12, 215, 28, 77, 52, 5, 14, 407, 16, 82, 2, 8, 4, 107, 117, 5952, 15, 256, 4, 2, 7, 3766, 5, 723, 36, 71, 43, 530, 476, 26, 400, 317, 46, 7, 4, 2, 1029, 13, 104, 88, 4, 381, 15, 297, 98, 32, 2071, 56, 26, 141, 6, 194, 7486, 18, 4, 226, 22, 21, 134, 476, 26, 480, 5, 144, 30, 5535, 18, 51, 36, 28, 224, 92, 25, 104, 4, 226, 65, 16, 38, 1334, 88, 12, 16, 283, 5, 16, 4472, 113, 103, 32, 15, 16, 5345, 19, 178, 32]\n"
          ]
        }
      ]
    },
    {
      "cell_type": "code",
      "source": [
        "vocab=alldata.get_word_index()"
      ],
      "metadata": {
        "colab": {
          "base_uri": "https://localhost:8080/"
        },
        "id": "yHRK37umI1PE",
        "outputId": "fc8a71fc-e202-439d-e7b0-21f59096442c"
      },
      "execution_count": 19,
      "outputs": [
        {
          "output_type": "stream",
          "name": "stdout",
          "text": [
            "Downloading data from https://storage.googleapis.com/tensorflow/tf-keras-datasets/imdb_word_index.json\n",
            "1646592/1641221 [==============================] - 0s 0us/step\n",
            "1654784/1641221 [==============================] - 0s 0us/step\n"
          ]
        }
      ]
    },
    {
      "cell_type": "code",
      "source": [
        "revvocab={ v:k for k,v in vocab.items()}"
      ],
      "metadata": {
        "id": "psix1d8HP7J4"
      },
      "execution_count": 20,
      "outputs": []
    },
    {
      "cell_type": "code",
      "source": [
        "def decoder(sentence):\n",
        "  words=[ revvocab[word] for word in sentence]\n",
        "  fullsent=\" \".join(words)\n",
        "  return fullsent"
      ],
      "metadata": {
        "id": "Ldr49e-WP-Eb"
      },
      "execution_count": 21,
      "outputs": []
    },
    {
      "cell_type": "code",
      "source": [
        "decoder(xtrain[90])"
      ],
      "metadata": {
        "colab": {
          "base_uri": "https://localhost:8080/",
          "height": 139
        },
        "id": "EvGjfnUBQRJR",
        "outputId": "0ac2d4d2-6d03-463c-8053-f8f7c2882faf"
      },
      "execution_count": 22,
      "outputs": [
        {
          "output_type": "execute_result",
          "data": {
            "text/plain": [
              "\"the this enough premiere and better executed ability br and with his her and movie it stick politics i i was one is excellent cut this and only natural with lot br of how truly full this of want f br and pop and off that however of here br realistically and me will her points violent this and of 1 for from me in and of guy to simple or and this seen money pleasures sees hours is exciting and guy to sets shockingly and ability his is displays really me of truly and br and and with is quite touches in of i've been stick politics i i of she's it for of house geniuses for its great does it of complicated down roth cute dies are and are arrived really disaster and rented movie trite of thought group fun to big was can about previous are and to sentiment historical those are for top and with is word bath this of neil whether and to audience and with table and who private and yes br complicated sirk was let musicals was two that with and happen can't ok in out imagination i i they by my complicated other moore is am and place br of problem 1 and movie table and\""
            ],
            "application/vnd.google.colaboratory.intrinsic+json": {
              "type": "string"
            }
          },
          "metadata": {},
          "execution_count": 22
        }
      ]
    },
    {
      "cell_type": "code",
      "source": [
        "decoder(xtrain[2090])"
      ],
      "metadata": {
        "colab": {
          "base_uri": "https://localhost:8080/",
          "height": 139
        },
        "id": "Uk44p4-KIDNn",
        "outputId": "a169e5e7-8f9d-429e-be79-bcb2ed9ea0be"
      },
      "execution_count": 23,
      "outputs": [
        {
          "output_type": "execute_result",
          "data": {
            "text/plain": [
              "\"the as on it has is time nowhere slack aspects idea like it jon in gadget is during doing and fascinated ways sets in targeted and and that mean floors rent psyche this of white almost to would end movie has movie much movie of guy grew was two and beau story one will is still moves not cartoon of complete heroes day on wrong from away against glorious about floors rent end few him this us nice not bad best also in can about used struggling of their it around straight in why of there's newspaper even focused is got to african close and there of forced michael almost all it of idea are of ways to other of did cut but floors rent and and there is again spend something movie of list work say like cat of mack 80s to thing two is found real gadget theaters as come it hear she unfortunately of you to burt in why it prove union floors rent thing maybe about ways i'm think and faster gimmicks would thing people last is forced gadget attempt people more it is makes hatred jim is timeless to his her screaming fred like and and this documentary in surely be props to 1 just tricks fascinated fred loy and that different just seeing me is very my minutes as you not of see now everything in can that it but floors rent psyche evil his for him so horrible not would there is detract sat version solid to is time and level\""
            ],
            "application/vnd.google.colaboratory.intrinsic+json": {
              "type": "string"
            }
          },
          "metadata": {},
          "execution_count": 23
        }
      ]
    },
    {
      "cell_type": "code",
      "source": [
        "revnewvocab={ }"
      ],
      "metadata": {
        "id": "EUS2IcFrR3cC"
      },
      "execution_count": null,
      "outputs": []
    },
    {
      "cell_type": "code",
      "source": [
        "revvocab[1],revvocab[0]"
      ],
      "metadata": {
        "colab": {
          "base_uri": "https://localhost:8080/",
          "height": 166
        },
        "id": "qFIafniuSEg2",
        "outputId": "c36b7aab-601e-4f7c-a963-71aaf514365b"
      },
      "execution_count": 24,
      "outputs": [
        {
          "output_type": "error",
          "ename": "KeyError",
          "evalue": "ignored",
          "traceback": [
            "\u001b[0;31m---------------------------------------------------------------------------\u001b[0m",
            "\u001b[0;31mKeyError\u001b[0m                                  Traceback (most recent call last)",
            "\u001b[0;32m<ipython-input-24-634320f635c1>\u001b[0m in \u001b[0;36m<module>\u001b[0;34m()\u001b[0m\n\u001b[0;32m----> 1\u001b[0;31m \u001b[0mrevvocab\u001b[0m\u001b[0;34m[\u001b[0m\u001b[0;36m1\u001b[0m\u001b[0;34m]\u001b[0m\u001b[0;34m,\u001b[0m\u001b[0mrevvocab\u001b[0m\u001b[0;34m[\u001b[0m\u001b[0;36m0\u001b[0m\u001b[0;34m]\u001b[0m\u001b[0;34m\u001b[0m\u001b[0;34m\u001b[0m\u001b[0m\n\u001b[0m",
            "\u001b[0;31mKeyError\u001b[0m: 0"
          ]
        }
      ]
    },
    {
      "cell_type": "code",
      "source": [
        "fixed_dict={k:v+3 for k,v in vocab.items()}\n",
        "rev_fixed_vocab={ v:k for k,v in fixed_dict.items()} "
      ],
      "metadata": {
        "id": "kIY2w7ibSaCz"
      },
      "execution_count": 26,
      "outputs": []
    },
    {
      "cell_type": "code",
      "source": [
        "rev_fixed_vocab[41]"
      ],
      "metadata": {
        "colab": {
          "base_uri": "https://localhost:8080/",
          "height": 35
        },
        "id": "ks3H9v_8TpIQ",
        "outputId": "f074fd95-0b78-49ab-9aa8-db0315ebeb32"
      },
      "execution_count": 27,
      "outputs": [
        {
          "output_type": "execute_result",
          "data": {
            "text/plain": [
              "'her'"
            ],
            "application/vnd.google.colaboratory.intrinsic+json": {
              "type": "string"
            }
          },
          "metadata": {},
          "execution_count": 27
        }
      ]
    },
    {
      "cell_type": "code",
      "source": [
        "rev_fixed_vocab[0]='<PAD>'\n",
        "rev_fixed_vocab[1]='<START>' \n",
        "rev_fixed_vocab[2]='<UNK>'\n",
        "rev_fixed_vocab[3]='<UNUSED>'"
      ],
      "metadata": {
        "id": "HiaCkVfTTvCH"
      },
      "execution_count": 30,
      "outputs": []
    },
    {
      "cell_type": "code",
      "source": [
        "decoder(xtrain[0])"
      ],
      "metadata": {
        "colab": {
          "base_uri": "https://localhost:8080/",
          "height": 139
        },
        "id": "9oyxg2xqUP9s",
        "outputId": "7612c05e-53de-48ee-cb8d-f891d07fe895"
      },
      "execution_count": 32,
      "outputs": [
        {
          "output_type": "execute_result",
          "data": {
            "text/plain": [
              "\"the as you with out themselves powerful lets loves their becomes reaching had journalist of lot from anyone to have after out atmosphere never more room and it so heart shows to years of every never going and help moments or of every chest visual movie except her was several of enough more with is now current film as you of mine potentially unfortunately of you than him that with out themselves her get for was camp of you movie sometimes movie that with scary but and to story wonderful that in seeing in character to of 70s musicians with heart had shadows they of here that with her serious to have does when from why what have critics they is you that isn't one will very to as itself with other and in of seen over landed for anyone of and br show's to whether from than out themselves history he name half some br of and odd was two most of mean for 1 any an boat she he should is thought frog but of script you not while history he heart to real at barrel but when from one bit then have two of script their with her nobody most that with wasn't to with armed acting watch an for with heartfelt film want an\""
            ],
            "application/vnd.google.colaboratory.intrinsic+json": {
              "type": "string"
            }
          },
          "metadata": {},
          "execution_count": 32
        }
      ]
    },
    {
      "cell_type": "code",
      "source": [
        "ytrain[0]"
      ],
      "metadata": {
        "colab": {
          "base_uri": "https://localhost:8080/"
        },
        "id": "kYMvpTZLIzZ3",
        "outputId": "e2f08605-36e5-454f-ac76-d6605973a274"
      },
      "execution_count": 34,
      "outputs": [
        {
          "output_type": "execute_result",
          "data": {
            "text/plain": [
              "1"
            ]
          },
          "metadata": {},
          "execution_count": 34
        }
      ]
    },
    {
      "cell_type": "code",
      "source": [
        "for i in range(10):\n",
        "  print(len(xtrain[i]))"
      ],
      "metadata": {
        "colab": {
          "base_uri": "https://localhost:8080/"
        },
        "id": "jPtDlZgSI5Pf",
        "outputId": "68a87c9e-394e-491e-b3ae-57bdbcfa7382"
      },
      "execution_count": 35,
      "outputs": [
        {
          "output_type": "stream",
          "name": "stdout",
          "text": [
            "218\n",
            "189\n",
            "141\n",
            "550\n",
            "147\n",
            "43\n",
            "123\n",
            "562\n",
            "233\n",
            "130\n"
          ]
        }
      ]
    },
    {
      "cell_type": "code",
      "source": [
        "xtrain_padded = keras.preprocessing.sequence.pad_sequences(xtrain, maxlen = HP_maxlen, truncating = 'post', padding = 'post')"
      ],
      "metadata": {
        "id": "xxDA8HbmI-Ml"
      },
      "execution_count": 40,
      "outputs": []
    },
    {
      "cell_type": "code",
      "source": [
        "xtrain_padded[3]"
      ],
      "metadata": {
        "colab": {
          "base_uri": "https://localhost:8080/"
        },
        "id": "S5dcfJDRJbKK",
        "outputId": "ee8ff799-c70d-481b-bd06-2c33fa3d4333"
      },
      "execution_count": 41,
      "outputs": [
        {
          "output_type": "execute_result",
          "data": {
            "text/plain": [
              "array([   1,    4,    2,    2,   33, 2804,    4, 2040,  432,  111,  153,\n",
              "        103,    4, 1494,   13,   70,  131,   67,   11,   61,    2,  744,\n",
              "         35, 3715,  761,   61, 5766,  452, 9214,    4,  985,    7,    2,\n",
              "         59,  166,    4,  105,  216, 1239,   41, 1797,    9,   15,    7,\n",
              "         35,  744, 2413,   31,    8,    4,  687,   23,    4,    2, 7339,\n",
              "          6, 3693,   42,   38,   39,  121,   59,  456,   10,   10,    7,\n",
              "        265,   12,  575,  111,  153,  159,   59,   16, 1447,   21,   25,\n",
              "        586,  482,   39,    4,   96,   59,  716,   12,    4,  172,   65,\n",
              "          9,  579,   11, 6004,    4, 1615,    5,    2,    7, 5168,   17,\n",
              "         13, 7064,   12,   19,    6,  464,   31,  314,   11,    2,    6,\n",
              "        719,  605,   11,    8,  202,   27,  310,    4, 3772, 3501,    8,\n",
              "       2722,   58,   10,   10,  537, 2116,  180,   40,   14,  413,  173,\n",
              "          7,  263,  112,   37,  152,  377,    4,  537,  263,  846,  579,\n",
              "        178,   54,   75,   71,  476,   36,  413,  263, 2504,  182,    5,\n",
              "         17,   75, 2306,  922,   36,  279,  131, 2895,   17, 2867,   42,\n",
              "         17,   35,  921,    2,  192,    5, 1219, 3890,   19,    2,  217,\n",
              "       4122, 1710,  537,    2, 1236,    5,  736,   10,   10,   61,  403,\n",
              "          9,    2,   40,   61, 4494,    5,   27, 4494,  159,   90,  263,\n",
              "       2311, 4319,  309,    8,  178,    5,   82, 4319,    4,   65,   15,\n",
              "       9225,  145,  143, 5122,   12, 7039,  537,  746,  537,  537,   15,\n",
              "       7979,    4,    2,  594,    7, 5168,   94, 9096, 3987,    2,   11,\n",
              "          2,    4,  538,    7, 1795,  246,    2,    9,    2,   11,  635,\n",
              "         14,    9,   51,  408,   12,   94,  318, 1382,   12,   47,    6,\n",
              "       2683,  936,    5], dtype=int32)"
            ]
          },
          "metadata": {},
          "execution_count": 41
        }
      ]
    },
    {
      "cell_type": "code",
      "source": [
        "xtrain_padded[5]"
      ],
      "metadata": {
        "colab": {
          "base_uri": "https://localhost:8080/"
        },
        "id": "NWWY7AHmJcv6",
        "outputId": "fc24b124-bd70-4bd3-e5b1-ca307f9cf3e9"
      },
      "execution_count": 42,
      "outputs": [
        {
          "output_type": "execute_result",
          "data": {
            "text/plain": [
              "array([   1,  778,  128,   74,   12,  630,  163,   15,    4, 1766, 7982,\n",
              "       1051,    2,   32,   85,  156,   45,   40,  148,  139,  121,  664,\n",
              "        665,   10,   10, 1361,  173,    4,  749,    2,   16, 3804,    8,\n",
              "          4,  226,   65,   12,   43,  127,   24,    2,   10,   10,    0,\n",
              "          0,    0,    0,    0,    0,    0,    0,    0,    0,    0,    0,\n",
              "          0,    0,    0,    0,    0,    0,    0,    0,    0,    0,    0,\n",
              "          0,    0,    0,    0,    0,    0,    0,    0,    0,    0,    0,\n",
              "          0,    0,    0,    0,    0,    0,    0,    0,    0,    0,    0,\n",
              "          0,    0,    0,    0,    0,    0,    0,    0,    0,    0,    0,\n",
              "          0,    0,    0,    0,    0,    0,    0,    0,    0,    0,    0,\n",
              "          0,    0,    0,    0,    0,    0,    0,    0,    0,    0,    0,\n",
              "          0,    0,    0,    0,    0,    0,    0,    0,    0,    0,    0,\n",
              "          0,    0,    0,    0,    0,    0,    0,    0,    0,    0,    0,\n",
              "          0,    0,    0,    0,    0,    0,    0,    0,    0,    0,    0,\n",
              "          0,    0,    0,    0,    0,    0,    0,    0,    0,    0,    0,\n",
              "          0,    0,    0,    0,    0,    0,    0,    0,    0,    0,    0,\n",
              "          0,    0,    0,    0,    0,    0,    0,    0,    0,    0,    0,\n",
              "          0,    0,    0,    0,    0,    0,    0,    0,    0,    0,    0,\n",
              "          0,    0,    0,    0,    0,    0,    0,    0,    0,    0,    0,\n",
              "          0,    0,    0,    0,    0,    0,    0,    0,    0,    0,    0,\n",
              "          0,    0,    0,    0,    0,    0,    0,    0,    0,    0,    0,\n",
              "          0,    0,    0,    0,    0,    0,    0,    0,    0,    0,    0,\n",
              "          0,    0,    0,    0,    0,    0,    0,    0,    0,    0,    0,\n",
              "          0,    0,    0], dtype=int32)"
            ]
          },
          "metadata": {},
          "execution_count": 42
        }
      ]
    },
    {
      "cell_type": "code",
      "source": [
        "for i in range(10):\n",
        "  print(len(xtrain_padded[i]), end=\" \")"
      ],
      "metadata": {
        "colab": {
          "base_uri": "https://localhost:8080/"
        },
        "id": "hZd99umDJgTm",
        "outputId": "61205bab-0c99-4649-cd2b-f7afa5eef850"
      },
      "execution_count": 43,
      "outputs": [
        {
          "output_type": "stream",
          "name": "stdout",
          "text": [
            "256 256 256 256 256 256 256 256 256 256 "
          ]
        }
      ]
    },
    {
      "cell_type": "code",
      "source": [
        "1e-3/50"
      ],
      "metadata": {
        "colab": {
          "base_uri": "https://localhost:8080/"
        },
        "id": "QG-qSNlJNPOI",
        "outputId": "2ebdb04c-4fc5-42ff-8089-06860fd0795c"
      },
      "execution_count": 19,
      "outputs": [
        {
          "output_type": "execute_result",
          "data": {
            "text/plain": [
              "2e-05"
            ]
          },
          "metadata": {},
          "execution_count": 19
        }
      ]
    },
    {
      "cell_type": "code",
      "source": [
        "#cleaning,training,score, test, deployment"
      ],
      "metadata": {
        "id": "2JdXr0M9-Cj2"
      },
      "execution_count": 51,
      "outputs": []
    },
    {
      "cell_type": "code",
      "source": [
        "import tensorflow as tf \n",
        "x=tf.constant([[3,5,7],[4,6,8]]) \n",
        "y=tf.reshape(x,[3,1,2]) \n",
        "y"
      ],
      "metadata": {
        "colab": {
          "base_uri": "https://localhost:8080/"
        },
        "id": "CjVuPLnrlx9V",
        "outputId": "42927c38-cc42-4fcf-c801-1a4c8eb62560"
      },
      "execution_count": 44,
      "outputs": [
        {
          "output_type": "execute_result",
          "data": {
            "text/plain": [
              "<tf.Tensor: shape=(3, 1, 2), dtype=int32, numpy=\n",
              "array([[[3, 5]],\n",
              "\n",
              "       [[7, 4]],\n",
              "\n",
              "       [[6, 8]]], dtype=int32)>"
            ]
          },
          "metadata": {},
          "execution_count": 44
        }
      ]
    },
    {
      "cell_type": "code",
      "source": [
        "w=tf.Variable([[1.],[2.]]) \n",
        "x=tf.constant([[3.,4.]]) \n",
        "tf.matmul(w,x)"
      ],
      "metadata": {
        "colab": {
          "base_uri": "https://localhost:8080/"
        },
        "id": "W3qNNK4_oUgt",
        "outputId": "a651d1cd-01e9-4cc9-8a7c-bfe218e78e20"
      },
      "execution_count": 53,
      "outputs": [
        {
          "output_type": "execute_result",
          "data": {
            "text/plain": [
              "<tf.Tensor: shape=(2, 2), dtype=float32, numpy=\n",
              "array([[3., 4.],\n",
              "       [6., 8.]], dtype=float32)>"
            ]
          },
          "metadata": {},
          "execution_count": 53
        }
      ]
    },
    {
      "cell_type": "code",
      "source": [
        "def computegrad(x,y,w0,w1): \n",
        "  with tf.GradientTape() as tape: \n",
        "    loss=loss_mse(x,y,w0,w1) \n",
        "  return tape.gradient \n",
        "  "
      ],
      "metadata": {
        "id": "lgjmzU3to55E"
      },
      "execution_count": null,
      "outputs": []
    }
  ]
}